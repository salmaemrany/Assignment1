{
 "cells": [
  {
   "cell_type": "markdown",
   "id": "a26a0a1e",
   "metadata": {},
   "source": [
    "Source of the data:\n",
    "\n",
    "-\tWe obtained this dataset from the website Kaggle. \n",
    "-\thttps://www.kaggle.com/karangadiya/fifa19 \n",
    "\n",
    "Gadiya, K. (2018, December 21). FIFA 19 complete player dataset. Kaggle. Retrieved December 11, 2021, from\n",
    "               https://www.kaggle.com/karangadiya/fifa19 \n"
   ]
  },
  {
   "cell_type": "markdown",
   "id": "342d4355",
   "metadata": {},
   "source": [
    "Observations: \n",
    "\n",
    "-\tThe observations are people, specifically FiFA 19 soccer players. We minimized the number of observations used to only 1000 players, in order to place the focus on the best players. \n"
   ]
  }
 ],
 "metadata": {
  "interpreter": {
   "hash": "aee8b7b246df8f9039afb4144a1f6fd8d2ca17a180786b69acc140d282b71a49"
  },
  "kernelspec": {
   "display_name": "Python 3.9.10 64-bit",
   "language": "python",
   "name": "python3"
  },
  "language_info": {
   "codemirror_mode": {
    "name": "ipython",
    "version": 3
   },
   "file_extension": ".py",
   "mimetype": "text/x-python",
   "name": "python",
   "nbconvert_exporter": "python",
   "pygments_lexer": "ipython3",
   "version": "3.9.10"
  }
 },
 "nbformat": 4,
 "nbformat_minor": 5
}
