{
 "cells": [
  {
   "cell_type": "markdown",
   "id": "a26a0a1e",
   "metadata": {},
   "source": [
    "Source of the data:\n",
    "\n",
    "-\tWe obtained this dataset from the website Kaggle. \n",
    "-\thttps://www.kaggle.com/karangadiya/fifa19 \n",
    "\n",
    "Gadiya, K. (2018, December 21). FIFA 19 complete player dataset. Kaggle. Retrieved December 11, 2021, from\n",
    "               https://www.kaggle.com/karangadiya/fifa19 \n"
   ]
  },
  {
   "cell_type": "markdown",
   "id": "342d4355",
   "metadata": {},
   "source": [
    " \n",
    "Observations: \n",
    "\n",
    "-\tThe observations are people, specifically FiFA 19 soccer players. We minimized the number of observations used to only 1000 players, in order to place the focus on the best players.."
   ]
  },
  {
   "cell_type": "code",
   "execution_count": 495,
   "id": "ec13d3c6",
   "metadata": {},
   "outputs": [],
   "source": [
    "import numpy as np "
   ]
  },
  {
   "cell_type": "code",
   "execution_count": 496,
   "id": "ecfbcaf7",
   "metadata": {},
   "outputs": [],
   "source": [
    "import pandas as pd "
   ]
  },
  {
   "cell_type": "code",
   "execution_count": 497,
   "id": "edb132aa",
   "metadata": {},
   "outputs": [],
   "source": [
    "import statistics as stats"
   ]
  },
  {
   "cell_type": "code",
   "execution_count": 498,
   "id": "aec0b6ac",
   "metadata": {},
   "outputs": [],
   "source": [
    "import matplotlib.pyplot as plt"
   ]
  },
  {
   "cell_type": "code",
   "execution_count": 499,
   "id": "3a15774a",
   "metadata": {},
   "outputs": [],
   "source": [
    "import scipy as sp"
   ]
  },
  {
   "cell_type": "code",
   "execution_count": 500,
   "id": "c3a658b6",
   "metadata": {},
   "outputs": [
    {
     "ename": "NameError",
     "evalue": "name 'salmaye' is not defined",
     "output_type": "error",
     "traceback": [
      "\u001b[0;31m---------------------------------------------------------------------------\u001b[0m",
      "\u001b[0;31mNameError\u001b[0m                                 Traceback (most recent call last)",
      "\u001b[1;32m/Users/salmaye/Desktop/pp/Assignment1/Assignment 1.ipynb Cell 8'\u001b[0m in \u001b[0;36m<module>\u001b[0;34m\u001b[0m\n\u001b[0;32m----> <a href='vscode-notebook-cell:/Users/salmaye/Desktop/pp/Assignment1/Assignment%201.ipynb#ch0000070?line=0'>1</a>\u001b[0m salmaye\u001b[39m/\u001b[39mlocal\u001b[39m/\u001b[39m\u001b[39mbin\u001b[39m\u001b[39m/\u001b[39mpython3(\u001b[39m-\u001b[39mm, pip, install, \u001b[39m-\u001b[39m\u001b[39m-\u001b[39mupgrade, pip)\n",
      "\u001b[0;31mNameError\u001b[0m: name 'salmaye' is not defined"
     ]
    }
   ],
   "source": [
    "/salmaye/local/bin/python3 -m pip install --upgrade pip"
   ]
  },
  {
   "cell_type": "code",
   "execution_count": null,
   "id": "21af5232",
   "metadata": {},
   "outputs": [
    {
     "name": "stdout",
     "output_type": "stream",
     "text": [
      "\u001b[31mERROR: Could not find a version that satisfies the requirement statsmodels.api (from versions: none)\u001b[0m\u001b[31m\n",
      "\u001b[0m\u001b[31mERROR: No matching distribution found for statsmodels.api\u001b[0m\u001b[31m\n",
      "\u001b[0m\u001b[33mWARNING: You are using pip version 22.0.1; however, version 22.0.3 is available.\n",
      "You should consider upgrading via the '/usr/local/bin/python3 -m pip install --upgrade pip' command.\u001b[0m\u001b[33m\n",
      "\u001b[0mNote: you may need to restart the kernel to use updated packages.\n"
     ]
    }
   ],
   "source": [
    "pip install statsmodels.api"
   ]
  },
  {
   "cell_type": "code",
   "execution_count": null,
   "id": "6aef40c2",
   "metadata": {},
   "outputs": [
    {
     "ename": "ModuleNotFoundError",
     "evalue": "No module named 'statsmodels'",
     "output_type": "error",
     "traceback": [
      "\u001b[0;31m---------------------------------------------------------------------------\u001b[0m",
      "\u001b[0;31mModuleNotFoundError\u001b[0m                       Traceback (most recent call last)",
      "\u001b[1;32m/Users/salmaye/Desktop/pp/Assignment1/Assignment 1.ipynb Cell 10'\u001b[0m in \u001b[0;36m<module>\u001b[0;34m\u001b[0m\n\u001b[0;32m----> <a href='vscode-notebook-cell:/Users/salmaye/Desktop/pp/Assignment1/Assignment%201.ipynb#ch0000067?line=0'>1</a>\u001b[0m \u001b[39mimport\u001b[39;00m \u001b[39mstatsmodels\u001b[39;00m\u001b[39m.\u001b[39;00m\u001b[39mapi\u001b[39;00m \u001b[39mas\u001b[39;00m \u001b[39msm\u001b[39;00m\n",
      "\u001b[0;31mModuleNotFoundError\u001b[0m: No module named 'statsmodels'"
     ]
    }
   ],
   "source": [
    "import statsmodels.api as sm"
   ]
  },
  {
   "cell_type": "code",
   "execution_count": 501,
   "id": "c5e7be8e",
   "metadata": {},
   "outputs": [],
   "source": [
    "df=pd.read_csv(\"data.csv\")"
   ]
  },
  {
   "cell_type": "code",
   "execution_count": 502,
   "id": "5c9499fa",
   "metadata": {},
   "outputs": [
    {
     "data": {
      "text/html": [
       "<div>\n",
       "<style scoped>\n",
       "    .dataframe tbody tr th:only-of-type {\n",
       "        vertical-align: middle;\n",
       "    }\n",
       "\n",
       "    .dataframe tbody tr th {\n",
       "        vertical-align: top;\n",
       "    }\n",
       "\n",
       "    .dataframe thead th {\n",
       "        text-align: right;\n",
       "    }\n",
       "</style>\n",
       "<table border=\"1\" class=\"dataframe\">\n",
       "  <thead>\n",
       "    <tr style=\"text-align: right;\">\n",
       "      <th></th>\n",
       "      <th>ID</th>\n",
       "      <th>Name</th>\n",
       "      <th>Age</th>\n",
       "      <th>Nationality</th>\n",
       "      <th>Overall</th>\n",
       "      <th>Potential</th>\n",
       "      <th>Club</th>\n",
       "      <th>ValueInMillions</th>\n",
       "      <th>WageInThousands</th>\n",
       "      <th>Special</th>\n",
       "      <th>...</th>\n",
       "      <th>WeightInPounds</th>\n",
       "      <th>Release Clause</th>\n",
       "      <th>Jumping</th>\n",
       "      <th>Strength</th>\n",
       "      <th>SprintSpeed</th>\n",
       "      <th>Agility</th>\n",
       "      <th>Balance</th>\n",
       "      <th>Vision</th>\n",
       "      <th>Dribbling</th>\n",
       "      <th>BallControl</th>\n",
       "    </tr>\n",
       "  </thead>\n",
       "  <tbody>\n",
       "    <tr>\n",
       "      <th>0</th>\n",
       "      <td>158023</td>\n",
       "      <td>L. Messi</td>\n",
       "      <td>31</td>\n",
       "      <td>Argentina</td>\n",
       "      <td>94</td>\n",
       "      <td>94</td>\n",
       "      <td>FC Barcelona</td>\n",
       "      <td>110.5</td>\n",
       "      <td>565</td>\n",
       "      <td>2202</td>\n",
       "      <td>...</td>\n",
       "      <td>159</td>\n",
       "      <td>226.5</td>\n",
       "      <td>68</td>\n",
       "      <td>59</td>\n",
       "      <td>86</td>\n",
       "      <td>91</td>\n",
       "      <td>95</td>\n",
       "      <td>94</td>\n",
       "      <td>97</td>\n",
       "      <td>96</td>\n",
       "    </tr>\n",
       "    <tr>\n",
       "      <th>1</th>\n",
       "      <td>20801</td>\n",
       "      <td>Cristiano Ronaldo</td>\n",
       "      <td>33</td>\n",
       "      <td>Portugal</td>\n",
       "      <td>94</td>\n",
       "      <td>94</td>\n",
       "      <td>Juventus</td>\n",
       "      <td>77.0</td>\n",
       "      <td>405</td>\n",
       "      <td>2228</td>\n",
       "      <td>...</td>\n",
       "      <td>183</td>\n",
       "      <td>127.1</td>\n",
       "      <td>95</td>\n",
       "      <td>79</td>\n",
       "      <td>91</td>\n",
       "      <td>87</td>\n",
       "      <td>70</td>\n",
       "      <td>82</td>\n",
       "      <td>88</td>\n",
       "      <td>94</td>\n",
       "    </tr>\n",
       "    <tr>\n",
       "      <th>2</th>\n",
       "      <td>190871</td>\n",
       "      <td>Neymar Jr</td>\n",
       "      <td>26</td>\n",
       "      <td>Brazil</td>\n",
       "      <td>92</td>\n",
       "      <td>93</td>\n",
       "      <td>Paris Saint-Germain</td>\n",
       "      <td>118.5</td>\n",
       "      <td>290</td>\n",
       "      <td>2143</td>\n",
       "      <td>...</td>\n",
       "      <td>150</td>\n",
       "      <td>228.1</td>\n",
       "      <td>61</td>\n",
       "      <td>49</td>\n",
       "      <td>90</td>\n",
       "      <td>96</td>\n",
       "      <td>84</td>\n",
       "      <td>87</td>\n",
       "      <td>96</td>\n",
       "      <td>95</td>\n",
       "    </tr>\n",
       "    <tr>\n",
       "      <th>3</th>\n",
       "      <td>193080</td>\n",
       "      <td>De Gea</td>\n",
       "      <td>27</td>\n",
       "      <td>Spain</td>\n",
       "      <td>91</td>\n",
       "      <td>93</td>\n",
       "      <td>Manchester United</td>\n",
       "      <td>72.0</td>\n",
       "      <td>260</td>\n",
       "      <td>1471</td>\n",
       "      <td>...</td>\n",
       "      <td>168</td>\n",
       "      <td>138.6</td>\n",
       "      <td>67</td>\n",
       "      <td>64</td>\n",
       "      <td>58</td>\n",
       "      <td>60</td>\n",
       "      <td>43</td>\n",
       "      <td>68</td>\n",
       "      <td>18</td>\n",
       "      <td>42</td>\n",
       "    </tr>\n",
       "    <tr>\n",
       "      <th>4</th>\n",
       "      <td>192985</td>\n",
       "      <td>K. De Bruyne</td>\n",
       "      <td>27</td>\n",
       "      <td>Belgium</td>\n",
       "      <td>91</td>\n",
       "      <td>92</td>\n",
       "      <td>Manchester City</td>\n",
       "      <td>102.0</td>\n",
       "      <td>355</td>\n",
       "      <td>2281</td>\n",
       "      <td>...</td>\n",
       "      <td>154</td>\n",
       "      <td>196.4</td>\n",
       "      <td>63</td>\n",
       "      <td>75</td>\n",
       "      <td>76</td>\n",
       "      <td>79</td>\n",
       "      <td>77</td>\n",
       "      <td>94</td>\n",
       "      <td>86</td>\n",
       "      <td>91</td>\n",
       "    </tr>\n",
       "    <tr>\n",
       "      <th>...</th>\n",
       "      <td>...</td>\n",
       "      <td>...</td>\n",
       "      <td>...</td>\n",
       "      <td>...</td>\n",
       "      <td>...</td>\n",
       "      <td>...</td>\n",
       "      <td>...</td>\n",
       "      <td>...</td>\n",
       "      <td>...</td>\n",
       "      <td>...</td>\n",
       "      <td>...</td>\n",
       "      <td>...</td>\n",
       "      <td>...</td>\n",
       "      <td>...</td>\n",
       "      <td>...</td>\n",
       "      <td>...</td>\n",
       "      <td>...</td>\n",
       "      <td>...</td>\n",
       "      <td>...</td>\n",
       "      <td>...</td>\n",
       "      <td>...</td>\n",
       "    </tr>\n",
       "    <tr>\n",
       "      <th>996</th>\n",
       "      <td>193361</td>\n",
       "      <td>R. Soriano</td>\n",
       "      <td>27</td>\n",
       "      <td>Italy</td>\n",
       "      <td>77</td>\n",
       "      <td>77</td>\n",
       "      <td>Torino</td>\n",
       "      <td>9.5</td>\n",
       "      <td>31</td>\n",
       "      <td>2082</td>\n",
       "      <td>...</td>\n",
       "      <td>168</td>\n",
       "      <td>NaN</td>\n",
       "      <td>66</td>\n",
       "      <td>69</td>\n",
       "      <td>75</td>\n",
       "      <td>79</td>\n",
       "      <td>72</td>\n",
       "      <td>78</td>\n",
       "      <td>78</td>\n",
       "      <td>79</td>\n",
       "    </tr>\n",
       "    <tr>\n",
       "      <th>997</th>\n",
       "      <td>223058</td>\n",
       "      <td>D. Kuzyaev</td>\n",
       "      <td>25</td>\n",
       "      <td>Russia</td>\n",
       "      <td>77</td>\n",
       "      <td>80</td>\n",
       "      <td>NaN</td>\n",
       "      <td>0.0</td>\n",
       "      <td>0</td>\n",
       "      <td>2041</td>\n",
       "      <td>...</td>\n",
       "      <td>163</td>\n",
       "      <td>NaN</td>\n",
       "      <td>60</td>\n",
       "      <td>59</td>\n",
       "      <td>81</td>\n",
       "      <td>80</td>\n",
       "      <td>76</td>\n",
       "      <td>70</td>\n",
       "      <td>78</td>\n",
       "      <td>79</td>\n",
       "    </tr>\n",
       "    <tr>\n",
       "      <th>998</th>\n",
       "      <td>152916</td>\n",
       "      <td>R. Sambueza</td>\n",
       "      <td>34</td>\n",
       "      <td>Argentina</td>\n",
       "      <td>77</td>\n",
       "      <td>77</td>\n",
       "      <td>Deportivo Toluca</td>\n",
       "      <td>4.5</td>\n",
       "      <td>26</td>\n",
       "      <td>2005</td>\n",
       "      <td>...</td>\n",
       "      <td>159</td>\n",
       "      <td>7.6</td>\n",
       "      <td>67</td>\n",
       "      <td>75</td>\n",
       "      <td>71</td>\n",
       "      <td>69</td>\n",
       "      <td>73</td>\n",
       "      <td>80</td>\n",
       "      <td>77</td>\n",
       "      <td>80</td>\n",
       "    </tr>\n",
       "    <tr>\n",
       "      <th>999</th>\n",
       "      <td>194644</td>\n",
       "      <td>Montoya</td>\n",
       "      <td>27</td>\n",
       "      <td>Spain</td>\n",
       "      <td>77</td>\n",
       "      <td>78</td>\n",
       "      <td>Brighton &amp; Hove Albion</td>\n",
       "      <td>8.0</td>\n",
       "      <td>43</td>\n",
       "      <td>2036</td>\n",
       "      <td>...</td>\n",
       "      <td>161</td>\n",
       "      <td>15.8</td>\n",
       "      <td>75</td>\n",
       "      <td>68</td>\n",
       "      <td>79</td>\n",
       "      <td>78</td>\n",
       "      <td>80</td>\n",
       "      <td>63</td>\n",
       "      <td>70</td>\n",
       "      <td>74</td>\n",
       "    </tr>\n",
       "    <tr>\n",
       "      <th>1000</th>\n",
       "      <td>185174</td>\n",
       "      <td>A. Poli</td>\n",
       "      <td>28</td>\n",
       "      <td>Italy</td>\n",
       "      <td>77</td>\n",
       "      <td>77</td>\n",
       "      <td>Bologna</td>\n",
       "      <td>9.0</td>\n",
       "      <td>34</td>\n",
       "      <td>2040</td>\n",
       "      <td>...</td>\n",
       "      <td>170</td>\n",
       "      <td>15.3</td>\n",
       "      <td>68</td>\n",
       "      <td>65</td>\n",
       "      <td>75</td>\n",
       "      <td>75</td>\n",
       "      <td>75</td>\n",
       "      <td>78</td>\n",
       "      <td>79</td>\n",
       "      <td>80</td>\n",
       "    </tr>\n",
       "  </tbody>\n",
       "</table>\n",
       "<p>1001 rows × 29 columns</p>\n",
       "</div>"
      ],
      "text/plain": [
       "          ID               Name  Age Nationality  Overall  Potential  \\\n",
       "0     158023           L. Messi   31   Argentina       94         94   \n",
       "1      20801  Cristiano Ronaldo   33    Portugal       94         94   \n",
       "2     190871          Neymar Jr   26      Brazil       92         93   \n",
       "3     193080             De Gea   27       Spain       91         93   \n",
       "4     192985       K. De Bruyne   27     Belgium       91         92   \n",
       "...      ...                ...  ...         ...      ...        ...   \n",
       "996   193361         R. Soriano   27       Italy       77         77   \n",
       "997   223058         D. Kuzyaev   25      Russia       77         80   \n",
       "998   152916        R. Sambueza   34   Argentina       77         77   \n",
       "999   194644            Montoya   27       Spain       77         78   \n",
       "1000  185174            A. Poli   28       Italy       77         77   \n",
       "\n",
       "                        Club  ValueInMillions  WageInThousands  Special  ...  \\\n",
       "0               FC Barcelona            110.5              565     2202  ...   \n",
       "1                   Juventus             77.0              405     2228  ...   \n",
       "2        Paris Saint-Germain            118.5              290     2143  ...   \n",
       "3          Manchester United             72.0              260     1471  ...   \n",
       "4            Manchester City            102.0              355     2281  ...   \n",
       "...                      ...              ...              ...      ...  ...   \n",
       "996                   Torino              9.5               31     2082  ...   \n",
       "997                      NaN              0.0                0     2041  ...   \n",
       "998         Deportivo Toluca              4.5               26     2005  ...   \n",
       "999   Brighton & Hove Albion              8.0               43     2036  ...   \n",
       "1000                 Bologna              9.0               34     2040  ...   \n",
       "\n",
       "     WeightInPounds  Release Clause  Jumping  Strength SprintSpeed  Agility  \\\n",
       "0               159           226.5       68        59          86       91   \n",
       "1               183           127.1       95        79          91       87   \n",
       "2               150           228.1       61        49          90       96   \n",
       "3               168           138.6       67        64          58       60   \n",
       "4               154           196.4       63        75          76       79   \n",
       "...             ...             ...      ...       ...         ...      ...   \n",
       "996             168             NaN       66        69          75       79   \n",
       "997             163             NaN       60        59          81       80   \n",
       "998             159             7.6       67        75          71       69   \n",
       "999             161            15.8       75        68          79       78   \n",
       "1000            170            15.3       68        65          75       75   \n",
       "\n",
       "     Balance Vision  Dribbling  BallControl  \n",
       "0         95     94         97           96  \n",
       "1         70     82         88           94  \n",
       "2         84     87         96           95  \n",
       "3         43     68         18           42  \n",
       "4         77     94         86           91  \n",
       "...      ...    ...        ...          ...  \n",
       "996       72     78         78           79  \n",
       "997       76     70         78           79  \n",
       "998       73     80         77           80  \n",
       "999       80     63         70           74  \n",
       "1000      75     78         79           80  \n",
       "\n",
       "[1001 rows x 29 columns]"
      ]
     },
     "execution_count": 502,
     "metadata": {},
     "output_type": "execute_result"
    }
   ],
   "source": [
    "df"
   ]
  },
  {
   "cell_type": "code",
   "execution_count": 503,
   "id": "e3ff4a89",
   "metadata": {},
   "outputs": [
    {
     "data": {
      "text/plain": [
       "170.04695304695304"
      ]
     },
     "execution_count": 503,
     "metadata": {},
     "output_type": "execute_result"
    }
   ],
   "source": [
    "df['WeightInPounds'].mean()"
   ]
  },
  {
   "cell_type": "code",
   "execution_count": 504,
   "id": "419671d2",
   "metadata": {},
   "outputs": [
    {
     "data": {
      "text/plain": [
       "170.0"
      ]
     },
     "execution_count": 504,
     "metadata": {},
     "output_type": "execute_result"
    }
   ],
   "source": [
    "df['WeightInPounds'].median()"
   ]
  },
  {
   "cell_type": "code",
   "execution_count": null,
   "id": "1864c1c7",
   "metadata": {},
   "outputs": [
    {
     "data": {
      "text/plain": [
       "0.00    130.0\n",
       "0.25    159.0\n",
       "0.50    170.0\n",
       "0.75    181.0\n",
       "1.00    220.0\n",
       "Name: WeightInPounds, dtype: float64"
      ]
     },
     "execution_count": 442,
     "metadata": {},
     "output_type": "execute_result"
    }
   ],
   "source": [
    "df['WeightInPounds'].quantile([0,.25,.5,.75,1])\n"
   ]
  },
  {
   "cell_type": "code",
   "execution_count": null,
   "id": "983780bc",
   "metadata": {},
   "outputs": [
    {
     "data": {
      "text/plain": [
       "259.4867932067932"
      ]
     },
     "execution_count": 443,
     "metadata": {},
     "output_type": "execute_result"
    }
   ],
   "source": [
    "df['WeightInPounds'].var()"
   ]
  },
  {
   "cell_type": "code",
   "execution_count": null,
   "id": "b75056dd",
   "metadata": {},
   "outputs": [
    {
     "data": {
      "text/plain": [
       "16.108593768755647"
      ]
     },
     "execution_count": 444,
     "metadata": {},
     "output_type": "execute_result"
    }
   ],
   "source": [
    "df['WeightInPounds'].std()"
   ]
  },
  {
   "cell_type": "code",
   "execution_count": null,
   "id": "517f8941",
   "metadata": {},
   "outputs": [
    {
     "data": {
      "text/plain": [
       "5.834625374625373"
      ]
     },
     "execution_count": 445,
     "metadata": {},
     "output_type": "execute_result"
    }
   ],
   "source": [
    "df['HeightInInches'].mean()"
   ]
  },
  {
   "cell_type": "code",
   "execution_count": null,
   "id": "f28033bb",
   "metadata": {},
   "outputs": [
    {
     "data": {
      "text/plain": [
       "6.0"
      ]
     },
     "execution_count": 446,
     "metadata": {},
     "output_type": "execute_result"
    }
   ],
   "source": [
    "df['HeightInInches'].median()"
   ]
  },
  {
   "cell_type": "code",
   "execution_count": null,
   "id": "2812de93",
   "metadata": {},
   "outputs": [
    {
     "data": {
      "text/plain": [
       "0.00    5.1\n",
       "0.25    5.6\n",
       "0.50    6.0\n",
       "0.75    6.2\n",
       "1.00    6.7\n",
       "Name: HeightInInches, dtype: float64"
      ]
     },
     "execution_count": 447,
     "metadata": {},
     "output_type": "execute_result"
    }
   ],
   "source": [
    "df['HeightInInches'].quantile([0,.25,.5,.75,1])"
   ]
  },
  {
   "cell_type": "code",
   "execution_count": null,
   "id": "59892445",
   "metadata": {},
   "outputs": [
    {
     "data": {
      "text/plain": [
       "0.2048174845154845"
      ]
     },
     "execution_count": 448,
     "metadata": {},
     "output_type": "execute_result"
    }
   ],
   "source": [
    "df['HeightInInches'].var()"
   ]
  },
  {
   "cell_type": "code",
   "execution_count": null,
   "id": "e20b5c09",
   "metadata": {},
   "outputs": [
    {
     "data": {
      "text/plain": [
       "0.45256765739001337"
      ]
     },
     "execution_count": 449,
     "metadata": {},
     "output_type": "execute_result"
    }
   ],
   "source": [
    "df['HeightInInches'].std()"
   ]
  },
  {
   "cell_type": "code",
   "execution_count": null,
   "id": "8a661172",
   "metadata": {},
   "outputs": [
    {
     "data": {
      "text/plain": [
       "36.424921135646684"
      ]
     },
     "execution_count": 450,
     "metadata": {},
     "output_type": "execute_result"
    }
   ],
   "source": [
    "df['Release Clause'].mean()"
   ]
  },
  {
   "cell_type": "code",
   "execution_count": null,
   "id": "0aaf59c4",
   "metadata": {},
   "outputs": [
    {
     "data": {
      "text/plain": [
       "28.3"
      ]
     },
     "execution_count": 451,
     "metadata": {},
     "output_type": "execute_result"
    }
   ],
   "source": [
    "df['Release Clause'].median()"
   ]
  },
  {
   "cell_type": "code",
   "execution_count": null,
   "id": "19d3f8aa",
   "metadata": {},
   "outputs": [
    {
     "data": {
      "text/plain": [
       "0.00      1.10\n",
       "0.25     19.00\n",
       "0.50     28.30\n",
       "0.75     43.65\n",
       "1.00    228.10\n",
       "Name: Release Clause, dtype: float64"
      ]
     },
     "execution_count": 452,
     "metadata": {},
     "output_type": "execute_result"
    }
   ],
   "source": [
    "df['Release Clause'].quantile([0,.25,.5,.75,1])"
   ]
  },
  {
   "cell_type": "code",
   "execution_count": null,
   "id": "a8964bbd",
   "metadata": {},
   "outputs": [
    {
     "data": {
      "text/plain": [
       "819.426251967458"
      ]
     },
     "execution_count": 453,
     "metadata": {},
     "output_type": "execute_result"
    }
   ],
   "source": [
    "df['Release Clause'].var()"
   ]
  },
  {
   "cell_type": "code",
   "execution_count": 505,
   "id": "668826a1",
   "metadata": {},
   "outputs": [
    {
     "data": {
      "text/plain": [
       "28.625622298344155"
      ]
     },
     "execution_count": 505,
     "metadata": {},
     "output_type": "execute_result"
    }
   ],
   "source": [
    "df['Release Clause'].std()"
   ]
  },
  {
   "cell_type": "code",
   "execution_count": 506,
   "id": "2993eb52",
   "metadata": {},
   "outputs": [
    {
     "data": {
      "text/plain": [
       "65.4085914085914"
      ]
     },
     "execution_count": 506,
     "metadata": {},
     "output_type": "execute_result"
    }
   ],
   "source": [
    "df['WageInThousands'].mean()"
   ]
  },
  {
   "cell_type": "code",
   "execution_count": null,
   "id": "18957dee",
   "metadata": {},
   "outputs": [
    {
     "data": {
      "text/plain": [
       "46.0"
      ]
     },
     "execution_count": 456,
     "metadata": {},
     "output_type": "execute_result"
    }
   ],
   "source": [
    "df['WageInThousands'].median()"
   ]
  },
  {
   "cell_type": "code",
   "execution_count": null,
   "id": "e54597cd",
   "metadata": {},
   "outputs": [
    {
     "data": {
      "text/plain": [
       "0.00      0.0\n",
       "0.25     26.0\n",
       "0.50     46.0\n",
       "0.75     84.0\n",
       "1.00    565.0\n",
       "Name: WageInThousands, dtype: float64"
      ]
     },
     "execution_count": 457,
     "metadata": {},
     "output_type": "execute_result"
    }
   ],
   "source": [
    "df['WageInThousands'].quantile([0,.25,.5,.75,1])"
   ]
  },
  {
   "cell_type": "code",
   "execution_count": null,
   "id": "67f2c0b7",
   "metadata": {},
   "outputs": [
    {
     "data": {
      "text/plain": [
       "3992.0118861138862"
      ]
     },
     "execution_count": 458,
     "metadata": {},
     "output_type": "execute_result"
    }
   ],
   "source": [
    "df['WageInThousands'].var()"
   ]
  },
  {
   "cell_type": "code",
   "execution_count": null,
   "id": "518aada7",
   "metadata": {},
   "outputs": [
    {
     "data": {
      "text/plain": [
       "63.18237005774543"
      ]
     },
     "execution_count": 459,
     "metadata": {},
     "output_type": "execute_result"
    }
   ],
   "source": [
    "df['WageInThousands'].std()"
   ]
  },
  {
   "cell_type": "code",
   "execution_count": null,
   "id": "e0b776cd",
   "metadata": {},
   "outputs": [
    {
     "data": {
      "text/plain": [
       "19.35764235764236"
      ]
     },
     "execution_count": 462,
     "metadata": {},
     "output_type": "execute_result"
    }
   ],
   "source": [
    "df['ValueInMillions'].mean()"
   ]
  },
  {
   "cell_type": "code",
   "execution_count": null,
   "id": "11cfaeb2",
   "metadata": {},
   "outputs": [
    {
     "data": {
      "text/plain": [
       "14.5"
      ]
     },
     "execution_count": 463,
     "metadata": {},
     "output_type": "execute_result"
    }
   ],
   "source": [
    "df['ValueInMillions'].median()"
   ]
  },
  {
   "cell_type": "code",
   "execution_count": 509,
   "id": "5fd4f20c",
   "metadata": {},
   "outputs": [
    {
     "data": {
      "text/plain": [
       "548.2524840359641"
      ]
     },
     "execution_count": 509,
     "metadata": {},
     "output_type": "execute_result"
    }
   ],
   "source": [
    "df['ValueInMillions'].var()"
   ]
  },
  {
   "cell_type": "code",
   "execution_count": 508,
   "id": "9fd6e99e",
   "metadata": {},
   "outputs": [
    {
     "data": {
      "text/plain": [
       "23.41479199215667"
      ]
     },
     "execution_count": 508,
     "metadata": {},
     "output_type": "execute_result"
    }
   ],
   "source": [
    "df['ValueInMillions'].std()"
   ]
  },
  {
   "cell_type": "code",
   "execution_count": 507,
   "id": "a8717e7e",
   "metadata": {},
   "outputs": [
    {
     "data": {
      "text/plain": [
       "0.00      0.0\n",
       "0.25     10.0\n",
       "0.50     14.5\n",
       "0.75     22.0\n",
       "1.00    600.0\n",
       "Name: ValueInMillions, dtype: float64"
      ]
     },
     "execution_count": 507,
     "metadata": {},
     "output_type": "execute_result"
    }
   ],
   "source": [
    "df['ValueInMillions'].quantile([0,.25,.5,.75,1])"
   ]
  },
  {
   "cell_type": "code",
   "execution_count": 512,
   "id": "a15e4239",
   "metadata": {},
   "outputs": [
    {
     "data": {
      "text/plain": [
       "0.3361784412480953"
      ]
     },
     "execution_count": 512,
     "metadata": {},
     "output_type": "execute_result"
    }
   ],
   "source": [
    "df['Jumping'].corr(df['Strength'])"
   ]
  },
  {
   "cell_type": "code",
   "execution_count": 516,
   "id": "6ca4d39d",
   "metadata": {},
   "outputs": [
    {
     "data": {
      "text/plain": [
       "0.705399575116226"
      ]
     },
     "execution_count": 516,
     "metadata": {},
     "output_type": "execute_result"
    }
   ],
   "source": [
    "df['SprintSpeed'].corr(df['Agility'])"
   ]
  },
  {
   "cell_type": "code",
   "execution_count": 518,
   "id": "dd15572a",
   "metadata": {},
   "outputs": [
    {
     "data": {
      "text/plain": [
       "0.8588518827099209"
      ]
     },
     "execution_count": 518,
     "metadata": {},
     "output_type": "execute_result"
    }
   ],
   "source": [
    "df['Agility'].corr(df['Balance'])"
   ]
  },
  {
   "cell_type": "code",
   "execution_count": 520,
   "id": "bf793373",
   "metadata": {},
   "outputs": [
    {
     "data": {
      "text/plain": [
       "-0.40968454146379213"
      ]
     },
     "execution_count": 520,
     "metadata": {},
     "output_type": "execute_result"
    }
   ],
   "source": [
    "df['HeightInInches'].corr(df['Vision'])"
   ]
  },
  {
   "cell_type": "code",
   "execution_count": 521,
   "id": "4dbca4a9",
   "metadata": {},
   "outputs": [
    {
     "data": {
      "text/plain": [
       "0.7349019081632446"
      ]
     },
     "execution_count": 521,
     "metadata": {},
     "output_type": "execute_result"
    }
   ],
   "source": [
    "df['Dribbling'].corr(df['Vision'])"
   ]
  },
  {
   "cell_type": "code",
   "execution_count": 527,
   "id": "1befaa70",
   "metadata": {},
   "outputs": [
    {
     "data": {
      "text/plain": [
       "0.6540476289586655"
      ]
     },
     "execution_count": 527,
     "metadata": {},
     "output_type": "execute_result"
    }
   ],
   "source": [
    "df['WeightInPounds'].corr(df['Strength'])"
   ]
  },
  {
   "cell_type": "code",
   "execution_count": 529,
   "id": "6dfeb29e",
   "metadata": {},
   "outputs": [
    {
     "data": {
      "text/plain": [
       "0.7041649248407201"
      ]
     },
     "execution_count": 529,
     "metadata": {},
     "output_type": "execute_result"
    }
   ],
   "source": [
    "df['Dribbling'].corr(df['Balance'])"
   ]
  },
  {
   "cell_type": "code",
   "execution_count": 532,
   "id": "3bdf40b7",
   "metadata": {},
   "outputs": [
    {
     "data": {
      "text/plain": [
       "0.9647121301117824"
      ]
     },
     "execution_count": 532,
     "metadata": {},
     "output_type": "execute_result"
    }
   ],
   "source": [
    "df['BallControl'].corr(df['Dribbling'])"
   ]
  },
  {
   "cell_type": "code",
   "execution_count": null,
   "id": "23b4f4c6",
   "metadata": {},
   "outputs": [],
   "source": []
  }
 ],
 "metadata": {
  "interpreter": {
   "hash": "aee8b7b246df8f9039afb4144a1f6fd8d2ca17a180786b69acc140d282b71a49"
  },
  "kernelspec": {
   "display_name": "Python 3.9.10 64-bit",
   "language": "python",
   "name": "python3"
  },
  "language_info": {
   "codemirror_mode": {
    "name": "ipython",
    "version": 3
   },
   "file_extension": ".py",
   "mimetype": "text/x-python",
   "name": "python",
   "nbconvert_exporter": "python",
   "pygments_lexer": "ipython3",
   "version": "3.9.10"
  }
 },
 "nbformat": 4,
 "nbformat_minor": 5
}
