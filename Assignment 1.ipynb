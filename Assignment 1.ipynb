{
 "cells": [
  {
   "cell_type": "markdown",
   "id": "a26a0a1e",
   "metadata": {},
   "source": [
    "Source of the data:\n",
    "\n",
    "-\tWe obtained this dataset from the website Kaggle. \n",
    "-\thttps://www.kaggle.com/karangadiya/fifa19 \n",
    "\n",
    "Gadiya, K. (2018, December 21). FIFA 19 complete player dataset. Kaggle. Retrieved December 11, 2021, from\n",
    "               https://www.kaggle.com/karangadiya/fifa19 \n"
   ]
  },
  {
   "cell_type": "markdown",
   "id": "342d4355",
   "metadata": {},
   "source": [
    " \n",
    "Observations: \n",
    "\n",
    "-\tThe observations are people, specifically FiFA 19 soccer players. We minimized the number of observations used to only 1000 players, in order to place the focus on the best players.."
   ]
  },
  {
   "cell_type": "markdown",
   "id": "836ee0c2",
   "metadata": {},
   "source": [
    "-\tWe removed some variables and selected those that are usefeul when determining significant relationships and intrepretations and relevant to our goal, which is determining the best player card. Before we could acquire our statistical data and plot the graphs, we had to modify the variable categories. We changed the following variables to categories: Preferred Foot, International Reputation, Weak Foot, and Skill Moves."
   ]
  },
  {
   "cell_type": "code",
   "execution_count": 1,
   "id": "9265adec",
   "metadata": {},
   "outputs": [],
   "source": [
    "import numpy as np "
   ]
  },
  {
   "cell_type": "code",
   "execution_count": 2,
   "id": "ecfbcaf7",
   "metadata": {},
   "outputs": [],
   "source": [
    "import pandas as pd "
   ]
  },
  {
   "cell_type": "code",
   "execution_count": 3,
   "id": "edb132aa",
   "metadata": {},
   "outputs": [],
   "source": [
    "import statistics as stats"
   ]
  },
  {
   "cell_type": "code",
   "execution_count": 4,
   "id": "aec0b6ac",
   "metadata": {},
   "outputs": [],
   "source": [
    "import matplotlib.pyplot as plt"
   ]
  },
  {
   "cell_type": "code",
   "execution_count": 5,
   "id": "3a15774a",
   "metadata": {},
   "outputs": [],
   "source": [
    "import scipy as sp"
   ]
  },
  {
   "cell_type": "code",
   "execution_count": 6,
   "id": "28ca677e",
   "metadata": {},
   "outputs": [],
   "source": [
    "import seaborn as sns"
   ]
  },
  {
   "cell_type": "code",
   "execution_count": 7,
   "id": "b20fc78b",
   "metadata": {},
   "outputs": [
    {
     "ename": "NameError",
     "evalue": "name 'df' is not defined",
     "output_type": "error",
     "traceback": [
      "\u001b[0;31m---------------------------------------------------------------------------\u001b[0m",
      "\u001b[0;31mNameError\u001b[0m                                 Traceback (most recent call last)",
      "\u001b[1;32m/Users/salmaye/Desktop/pp/Assignment1/Assignment 1.ipynb Cell 10'\u001b[0m in \u001b[0;36m<module>\u001b[0;34m\u001b[0m\n\u001b[0;32m----> <a href='vscode-notebook-cell:/Users/salmaye/Desktop/pp/Assignment1/Assignment%201.ipynb#ch0000009?line=0'>1</a>\u001b[0m df[\u001b[39m'\u001b[39m\u001b[39mPreferredFoot\u001b[39m\u001b[39m'\u001b[39m] \u001b[39m=\u001b[39m df\u001b[39m.\u001b[39mPreferredFoot\u001b[39m.\u001b[39mastype(\u001b[39m'\u001b[39m\u001b[39mcategory\u001b[39m\u001b[39m'\u001b[39m)\n",
      "\u001b[0;31mNameError\u001b[0m: name 'df' is not defined"
     ]
    }
   ],
   "source": [
    "df['PreferredFoot'] = df.PreferredFoot.astype('category')"
   ]
  },
  {
   "cell_type": "code",
   "execution_count": null,
   "id": "2977c3f8",
   "metadata": {},
   "outputs": [],
   "source": [
    "df['InternationalReputation'] = df.InternationalReputation.astype('category')"
   ]
  },
  {
   "cell_type": "code",
   "execution_count": null,
   "id": "81e6db7c",
   "metadata": {},
   "outputs": [],
   "source": [
    "df['WeakFoot'] = df.WeakFoot.astype('category')"
   ]
  },
  {
   "cell_type": "code",
   "execution_count": null,
   "id": "940c4507",
   "metadata": {},
   "outputs": [],
   "source": [
    "df['SkillMoves'] = df.SkillMoves.astype('category')"
   ]
  },
  {
   "cell_type": "code",
   "execution_count": null,
   "id": "6aef40c2",
   "metadata": {},
   "outputs": [
    {
     "ename": "ModuleNotFoundError",
     "evalue": "No module named 'statsmodels'",
     "output_type": "error",
     "traceback": [
      "\u001b[0;31m---------------------------------------------------------------------------\u001b[0m",
      "\u001b[0;31mModuleNotFoundError\u001b[0m                       Traceback (most recent call last)",
      "\u001b[1;32m/Users/salmaye/Desktop/pp/Assignment1/Assignment 1.ipynb Cell 10'\u001b[0m in \u001b[0;36m<module>\u001b[0;34m\u001b[0m\n\u001b[0;32m----> <a href='vscode-notebook-cell:/Users/salmaye/Desktop/pp/Assignment1/Assignment%201.ipynb#ch0000067?line=0'>1</a>\u001b[0m \u001b[39mimport\u001b[39;00m \u001b[39mstatsmodels\u001b[39;00m\u001b[39m.\u001b[39;00m\u001b[39mapi\u001b[39;00m \u001b[39mas\u001b[39;00m \u001b[39msm\u001b[39;00m\n",
      "\u001b[0;31mModuleNotFoundError\u001b[0m: No module named 'statsmodels'"
     ]
    }
   ],
   "source": [
    "import statsmodels.api as sm"
   ]
  },
  {
   "cell_type": "code",
   "execution_count": 9,
   "id": "c5e7be8e",
   "metadata": {},
   "outputs": [],
   "source": [
    "df=pd.read_csv(\"data.csv\")"
   ]
  },
  {
   "cell_type": "code",
   "execution_count": 10,
   "id": "5c9499fa",
   "metadata": {},
   "outputs": [
    {
     "data": {
      "text/html": [
       "<div>\n",
       "<style scoped>\n",
       "    .dataframe tbody tr th:only-of-type {\n",
       "        vertical-align: middle;\n",
       "    }\n",
       "\n",
       "    .dataframe tbody tr th {\n",
       "        vertical-align: top;\n",
       "    }\n",
       "\n",
       "    .dataframe thead th {\n",
       "        text-align: right;\n",
       "    }\n",
       "</style>\n",
       "<table border=\"1\" class=\"dataframe\">\n",
       "  <thead>\n",
       "    <tr style=\"text-align: right;\">\n",
       "      <th></th>\n",
       "      <th>ID</th>\n",
       "      <th>Name</th>\n",
       "      <th>Age</th>\n",
       "      <th>Nationality</th>\n",
       "      <th>Overall</th>\n",
       "      <th>Potential</th>\n",
       "      <th>Club</th>\n",
       "      <th>ValueInMillions</th>\n",
       "      <th>WageInThousands</th>\n",
       "      <th>Special</th>\n",
       "      <th>...</th>\n",
       "      <th>WeightInPounds</th>\n",
       "      <th>ReleaseClause</th>\n",
       "      <th>Jumping</th>\n",
       "      <th>Strength</th>\n",
       "      <th>SprintSpeed</th>\n",
       "      <th>Agility</th>\n",
       "      <th>Balance</th>\n",
       "      <th>Vision</th>\n",
       "      <th>Dribbling</th>\n",
       "      <th>BallControl</th>\n",
       "    </tr>\n",
       "  </thead>\n",
       "  <tbody>\n",
       "    <tr>\n",
       "      <th>0</th>\n",
       "      <td>158023</td>\n",
       "      <td>L. Messi</td>\n",
       "      <td>31</td>\n",
       "      <td>Argentina</td>\n",
       "      <td>94</td>\n",
       "      <td>94</td>\n",
       "      <td>FC Barcelona</td>\n",
       "      <td>110.5</td>\n",
       "      <td>565</td>\n",
       "      <td>2202</td>\n",
       "      <td>...</td>\n",
       "      <td>159</td>\n",
       "      <td>226.5</td>\n",
       "      <td>68</td>\n",
       "      <td>59</td>\n",
       "      <td>86</td>\n",
       "      <td>91</td>\n",
       "      <td>95</td>\n",
       "      <td>94</td>\n",
       "      <td>97</td>\n",
       "      <td>96</td>\n",
       "    </tr>\n",
       "    <tr>\n",
       "      <th>1</th>\n",
       "      <td>20801</td>\n",
       "      <td>Cristiano Ronaldo</td>\n",
       "      <td>33</td>\n",
       "      <td>Portugal</td>\n",
       "      <td>94</td>\n",
       "      <td>94</td>\n",
       "      <td>Juventus</td>\n",
       "      <td>77.0</td>\n",
       "      <td>405</td>\n",
       "      <td>2228</td>\n",
       "      <td>...</td>\n",
       "      <td>183</td>\n",
       "      <td>127.1</td>\n",
       "      <td>95</td>\n",
       "      <td>79</td>\n",
       "      <td>91</td>\n",
       "      <td>87</td>\n",
       "      <td>70</td>\n",
       "      <td>82</td>\n",
       "      <td>88</td>\n",
       "      <td>94</td>\n",
       "    </tr>\n",
       "    <tr>\n",
       "      <th>2</th>\n",
       "      <td>190871</td>\n",
       "      <td>Neymar Jr</td>\n",
       "      <td>26</td>\n",
       "      <td>Brazil</td>\n",
       "      <td>92</td>\n",
       "      <td>93</td>\n",
       "      <td>Paris Saint-Germain</td>\n",
       "      <td>118.5</td>\n",
       "      <td>290</td>\n",
       "      <td>2143</td>\n",
       "      <td>...</td>\n",
       "      <td>150</td>\n",
       "      <td>228.1</td>\n",
       "      <td>61</td>\n",
       "      <td>49</td>\n",
       "      <td>90</td>\n",
       "      <td>96</td>\n",
       "      <td>84</td>\n",
       "      <td>87</td>\n",
       "      <td>96</td>\n",
       "      <td>95</td>\n",
       "    </tr>\n",
       "    <tr>\n",
       "      <th>3</th>\n",
       "      <td>193080</td>\n",
       "      <td>De Gea</td>\n",
       "      <td>27</td>\n",
       "      <td>Spain</td>\n",
       "      <td>91</td>\n",
       "      <td>93</td>\n",
       "      <td>Manchester United</td>\n",
       "      <td>72.0</td>\n",
       "      <td>260</td>\n",
       "      <td>1471</td>\n",
       "      <td>...</td>\n",
       "      <td>168</td>\n",
       "      <td>138.6</td>\n",
       "      <td>67</td>\n",
       "      <td>64</td>\n",
       "      <td>58</td>\n",
       "      <td>60</td>\n",
       "      <td>43</td>\n",
       "      <td>68</td>\n",
       "      <td>18</td>\n",
       "      <td>42</td>\n",
       "    </tr>\n",
       "    <tr>\n",
       "      <th>4</th>\n",
       "      <td>192985</td>\n",
       "      <td>K. De Bruyne</td>\n",
       "      <td>27</td>\n",
       "      <td>Belgium</td>\n",
       "      <td>91</td>\n",
       "      <td>92</td>\n",
       "      <td>Manchester City</td>\n",
       "      <td>102.0</td>\n",
       "      <td>355</td>\n",
       "      <td>2281</td>\n",
       "      <td>...</td>\n",
       "      <td>154</td>\n",
       "      <td>196.4</td>\n",
       "      <td>63</td>\n",
       "      <td>75</td>\n",
       "      <td>76</td>\n",
       "      <td>79</td>\n",
       "      <td>77</td>\n",
       "      <td>94</td>\n",
       "      <td>86</td>\n",
       "      <td>91</td>\n",
       "    </tr>\n",
       "    <tr>\n",
       "      <th>...</th>\n",
       "      <td>...</td>\n",
       "      <td>...</td>\n",
       "      <td>...</td>\n",
       "      <td>...</td>\n",
       "      <td>...</td>\n",
       "      <td>...</td>\n",
       "      <td>...</td>\n",
       "      <td>...</td>\n",
       "      <td>...</td>\n",
       "      <td>...</td>\n",
       "      <td>...</td>\n",
       "      <td>...</td>\n",
       "      <td>...</td>\n",
       "      <td>...</td>\n",
       "      <td>...</td>\n",
       "      <td>...</td>\n",
       "      <td>...</td>\n",
       "      <td>...</td>\n",
       "      <td>...</td>\n",
       "      <td>...</td>\n",
       "      <td>...</td>\n",
       "    </tr>\n",
       "    <tr>\n",
       "      <th>996</th>\n",
       "      <td>193361</td>\n",
       "      <td>R. Soriano</td>\n",
       "      <td>27</td>\n",
       "      <td>Italy</td>\n",
       "      <td>77</td>\n",
       "      <td>77</td>\n",
       "      <td>Torino</td>\n",
       "      <td>9.5</td>\n",
       "      <td>31</td>\n",
       "      <td>2082</td>\n",
       "      <td>...</td>\n",
       "      <td>168</td>\n",
       "      <td>NaN</td>\n",
       "      <td>66</td>\n",
       "      <td>69</td>\n",
       "      <td>75</td>\n",
       "      <td>79</td>\n",
       "      <td>72</td>\n",
       "      <td>78</td>\n",
       "      <td>78</td>\n",
       "      <td>79</td>\n",
       "    </tr>\n",
       "    <tr>\n",
       "      <th>997</th>\n",
       "      <td>223058</td>\n",
       "      <td>D. Kuzyaev</td>\n",
       "      <td>25</td>\n",
       "      <td>Russia</td>\n",
       "      <td>77</td>\n",
       "      <td>80</td>\n",
       "      <td>NaN</td>\n",
       "      <td>0.0</td>\n",
       "      <td>0</td>\n",
       "      <td>2041</td>\n",
       "      <td>...</td>\n",
       "      <td>163</td>\n",
       "      <td>NaN</td>\n",
       "      <td>60</td>\n",
       "      <td>59</td>\n",
       "      <td>81</td>\n",
       "      <td>80</td>\n",
       "      <td>76</td>\n",
       "      <td>70</td>\n",
       "      <td>78</td>\n",
       "      <td>79</td>\n",
       "    </tr>\n",
       "    <tr>\n",
       "      <th>998</th>\n",
       "      <td>152916</td>\n",
       "      <td>R. Sambueza</td>\n",
       "      <td>34</td>\n",
       "      <td>Argentina</td>\n",
       "      <td>77</td>\n",
       "      <td>77</td>\n",
       "      <td>Deportivo Toluca</td>\n",
       "      <td>4.5</td>\n",
       "      <td>26</td>\n",
       "      <td>2005</td>\n",
       "      <td>...</td>\n",
       "      <td>159</td>\n",
       "      <td>7.6</td>\n",
       "      <td>67</td>\n",
       "      <td>75</td>\n",
       "      <td>71</td>\n",
       "      <td>69</td>\n",
       "      <td>73</td>\n",
       "      <td>80</td>\n",
       "      <td>77</td>\n",
       "      <td>80</td>\n",
       "    </tr>\n",
       "    <tr>\n",
       "      <th>999</th>\n",
       "      <td>194644</td>\n",
       "      <td>Montoya</td>\n",
       "      <td>27</td>\n",
       "      <td>Spain</td>\n",
       "      <td>77</td>\n",
       "      <td>78</td>\n",
       "      <td>Brighton &amp; Hove Albion</td>\n",
       "      <td>8.0</td>\n",
       "      <td>43</td>\n",
       "      <td>2036</td>\n",
       "      <td>...</td>\n",
       "      <td>161</td>\n",
       "      <td>15.8</td>\n",
       "      <td>75</td>\n",
       "      <td>68</td>\n",
       "      <td>79</td>\n",
       "      <td>78</td>\n",
       "      <td>80</td>\n",
       "      <td>63</td>\n",
       "      <td>70</td>\n",
       "      <td>74</td>\n",
       "    </tr>\n",
       "    <tr>\n",
       "      <th>1000</th>\n",
       "      <td>185174</td>\n",
       "      <td>A. Poli</td>\n",
       "      <td>28</td>\n",
       "      <td>Italy</td>\n",
       "      <td>77</td>\n",
       "      <td>77</td>\n",
       "      <td>Bologna</td>\n",
       "      <td>9.0</td>\n",
       "      <td>34</td>\n",
       "      <td>2040</td>\n",
       "      <td>...</td>\n",
       "      <td>170</td>\n",
       "      <td>15.3</td>\n",
       "      <td>68</td>\n",
       "      <td>65</td>\n",
       "      <td>75</td>\n",
       "      <td>75</td>\n",
       "      <td>75</td>\n",
       "      <td>78</td>\n",
       "      <td>79</td>\n",
       "      <td>80</td>\n",
       "    </tr>\n",
       "  </tbody>\n",
       "</table>\n",
       "<p>1001 rows × 29 columns</p>\n",
       "</div>"
      ],
      "text/plain": [
       "          ID               Name  Age Nationality  Overall  Potential  \\\n",
       "0     158023           L. Messi   31   Argentina       94         94   \n",
       "1      20801  Cristiano Ronaldo   33    Portugal       94         94   \n",
       "2     190871          Neymar Jr   26      Brazil       92         93   \n",
       "3     193080             De Gea   27       Spain       91         93   \n",
       "4     192985       K. De Bruyne   27     Belgium       91         92   \n",
       "...      ...                ...  ...         ...      ...        ...   \n",
       "996   193361         R. Soriano   27       Italy       77         77   \n",
       "997   223058         D. Kuzyaev   25      Russia       77         80   \n",
       "998   152916        R. Sambueza   34   Argentina       77         77   \n",
       "999   194644            Montoya   27       Spain       77         78   \n",
       "1000  185174            A. Poli   28       Italy       77         77   \n",
       "\n",
       "                        Club  ValueInMillions  WageInThousands  Special  ...  \\\n",
       "0               FC Barcelona            110.5              565     2202  ...   \n",
       "1                   Juventus             77.0              405     2228  ...   \n",
       "2        Paris Saint-Germain            118.5              290     2143  ...   \n",
       "3          Manchester United             72.0              260     1471  ...   \n",
       "4            Manchester City            102.0              355     2281  ...   \n",
       "...                      ...              ...              ...      ...  ...   \n",
       "996                   Torino              9.5               31     2082  ...   \n",
       "997                      NaN              0.0                0     2041  ...   \n",
       "998         Deportivo Toluca              4.5               26     2005  ...   \n",
       "999   Brighton & Hove Albion              8.0               43     2036  ...   \n",
       "1000                 Bologna              9.0               34     2040  ...   \n",
       "\n",
       "     WeightInPounds  ReleaseClause  Jumping  Strength SprintSpeed  Agility  \\\n",
       "0               159          226.5       68        59          86       91   \n",
       "1               183          127.1       95        79          91       87   \n",
       "2               150          228.1       61        49          90       96   \n",
       "3               168          138.6       67        64          58       60   \n",
       "4               154          196.4       63        75          76       79   \n",
       "...             ...            ...      ...       ...         ...      ...   \n",
       "996             168            NaN       66        69          75       79   \n",
       "997             163            NaN       60        59          81       80   \n",
       "998             159            7.6       67        75          71       69   \n",
       "999             161           15.8       75        68          79       78   \n",
       "1000            170           15.3       68        65          75       75   \n",
       "\n",
       "     Balance Vision  Dribbling  BallControl  \n",
       "0         95     94         97           96  \n",
       "1         70     82         88           94  \n",
       "2         84     87         96           95  \n",
       "3         43     68         18           42  \n",
       "4         77     94         86           91  \n",
       "...      ...    ...        ...          ...  \n",
       "996       72     78         78           79  \n",
       "997       76     70         78           79  \n",
       "998       73     80         77           80  \n",
       "999       80     63         70           74  \n",
       "1000      75     78         79           80  \n",
       "\n",
       "[1001 rows x 29 columns]"
      ]
     },
     "execution_count": 10,
     "metadata": {},
     "output_type": "execute_result"
    }
   ],
   "source": [
    "df"
   ]
  },
  {
   "cell_type": "code",
   "execution_count": null,
   "id": "e3ff4a89",
   "metadata": {},
   "outputs": [
    {
     "data": {
      "text/plain": [
       "170.04695304695304"
      ]
     },
     "execution_count": 658,
     "metadata": {},
     "output_type": "execute_result"
    }
   ],
   "source": [
    "df['WeightInPounds'].mean()"
   ]
  },
  {
   "cell_type": "code",
   "execution_count": null,
   "id": "419671d2",
   "metadata": {},
   "outputs": [
    {
     "data": {
      "text/plain": [
       "170.0"
      ]
     },
     "execution_count": 659,
     "metadata": {},
     "output_type": "execute_result"
    }
   ],
   "source": [
    "df['WeightInPounds'].median()"
   ]
  },
  {
   "cell_type": "code",
   "execution_count": null,
   "id": "1864c1c7",
   "metadata": {},
   "outputs": [
    {
     "data": {
      "text/plain": [
       "0.00    130.0\n",
       "0.25    159.0\n",
       "0.50    170.0\n",
       "0.75    181.0\n",
       "1.00    220.0\n",
       "Name: WeightInPounds, dtype: float64"
      ]
     },
     "execution_count": 660,
     "metadata": {},
     "output_type": "execute_result"
    }
   ],
   "source": [
    "df['WeightInPounds'].quantile([0,.25,.5,.75,1])\n"
   ]
  },
  {
   "cell_type": "code",
   "execution_count": null,
   "id": "983780bc",
   "metadata": {},
   "outputs": [
    {
     "data": {
      "text/plain": [
       "259.4867932067932"
      ]
     },
     "execution_count": 661,
     "metadata": {},
     "output_type": "execute_result"
    }
   ],
   "source": [
    "df['WeightInPounds'].var()"
   ]
  },
  {
   "cell_type": "code",
   "execution_count": null,
   "id": "b75056dd",
   "metadata": {},
   "outputs": [
    {
     "data": {
      "text/plain": [
       "16.108593768755647"
      ]
     },
     "execution_count": 662,
     "metadata": {},
     "output_type": "execute_result"
    }
   ],
   "source": [
    "df['WeightInPounds'].std()"
   ]
  },
  {
   "cell_type": "code",
   "execution_count": null,
   "id": "517f8941",
   "metadata": {},
   "outputs": [
    {
     "data": {
      "text/plain": [
       "5.834625374625373"
      ]
     },
     "execution_count": 663,
     "metadata": {},
     "output_type": "execute_result"
    }
   ],
   "source": [
    "df['HeightInInches'].mean()"
   ]
  },
  {
   "cell_type": "code",
   "execution_count": null,
   "id": "f28033bb",
   "metadata": {},
   "outputs": [
    {
     "data": {
      "text/plain": [
       "6.0"
      ]
     },
     "execution_count": 664,
     "metadata": {},
     "output_type": "execute_result"
    }
   ],
   "source": [
    "df['HeightInInches'].median()"
   ]
  },
  {
   "cell_type": "code",
   "execution_count": null,
   "id": "2812de93",
   "metadata": {},
   "outputs": [
    {
     "data": {
      "text/plain": [
       "0.00    5.1\n",
       "0.25    5.6\n",
       "0.50    6.0\n",
       "0.75    6.2\n",
       "1.00    6.7\n",
       "Name: HeightInInches, dtype: float64"
      ]
     },
     "execution_count": 665,
     "metadata": {},
     "output_type": "execute_result"
    }
   ],
   "source": [
    "df['HeightInInches'].quantile([0,.25,.5,.75,1])"
   ]
  },
  {
   "cell_type": "code",
   "execution_count": null,
   "id": "59892445",
   "metadata": {},
   "outputs": [
    {
     "data": {
      "text/plain": [
       "0.2048174845154845"
      ]
     },
     "execution_count": 666,
     "metadata": {},
     "output_type": "execute_result"
    }
   ],
   "source": [
    "df['HeightInInches'].var()"
   ]
  },
  {
   "cell_type": "code",
   "execution_count": null,
   "id": "e20b5c09",
   "metadata": {},
   "outputs": [
    {
     "data": {
      "text/plain": [
       "0.45256765739001337"
      ]
     },
     "execution_count": 667,
     "metadata": {},
     "output_type": "execute_result"
    }
   ],
   "source": [
    "df['HeightInInches'].std()"
   ]
  },
  {
   "cell_type": "code",
   "execution_count": null,
   "id": "8a661172",
   "metadata": {},
   "outputs": [
    {
     "data": {
      "text/plain": [
       "36.424921135646684"
      ]
     },
     "execution_count": 668,
     "metadata": {},
     "output_type": "execute_result"
    }
   ],
   "source": [
    "df['ReleaseClause'].mean()"
   ]
  },
  {
   "cell_type": "code",
   "execution_count": null,
   "id": "0aaf59c4",
   "metadata": {},
   "outputs": [
    {
     "data": {
      "text/plain": [
       "28.3"
      ]
     },
     "execution_count": 669,
     "metadata": {},
     "output_type": "execute_result"
    }
   ],
   "source": [
    "df['ReleaseClause'].median()"
   ]
  },
  {
   "cell_type": "code",
   "execution_count": null,
   "id": "19d3f8aa",
   "metadata": {},
   "outputs": [
    {
     "data": {
      "text/plain": [
       "0.00      1.10\n",
       "0.25     19.00\n",
       "0.50     28.30\n",
       "0.75     43.65\n",
       "1.00    228.10\n",
       "Name: ReleaseClause, dtype: float64"
      ]
     },
     "execution_count": 670,
     "metadata": {},
     "output_type": "execute_result"
    }
   ],
   "source": [
    "df['ReleaseClause'].quantile([0,.25,.5,.75,1])"
   ]
  },
  {
   "cell_type": "code",
   "execution_count": null,
   "id": "a8964bbd",
   "metadata": {},
   "outputs": [
    {
     "data": {
      "text/plain": [
       "819.426251967458"
      ]
     },
     "execution_count": 671,
     "metadata": {},
     "output_type": "execute_result"
    }
   ],
   "source": [
    "df['ReleaseClause'].var()"
   ]
  },
  {
   "cell_type": "code",
   "execution_count": null,
   "id": "668826a1",
   "metadata": {},
   "outputs": [
    {
     "data": {
      "text/plain": [
       "28.625622298344155"
      ]
     },
     "execution_count": 672,
     "metadata": {},
     "output_type": "execute_result"
    }
   ],
   "source": [
    "df['ReleaseClause'].std()"
   ]
  },
  {
   "cell_type": "code",
   "execution_count": null,
   "id": "2993eb52",
   "metadata": {},
   "outputs": [
    {
     "data": {
      "text/plain": [
       "65.4085914085914"
      ]
     },
     "execution_count": 673,
     "metadata": {},
     "output_type": "execute_result"
    }
   ],
   "source": [
    "df['WageInThousands'].mean()"
   ]
  },
  {
   "cell_type": "code",
   "execution_count": null,
   "id": "18957dee",
   "metadata": {},
   "outputs": [
    {
     "data": {
      "text/plain": [
       "46.0"
      ]
     },
     "execution_count": 674,
     "metadata": {},
     "output_type": "execute_result"
    }
   ],
   "source": [
    "df['WageInThousands'].median()"
   ]
  },
  {
   "cell_type": "code",
   "execution_count": null,
   "id": "e54597cd",
   "metadata": {},
   "outputs": [
    {
     "data": {
      "text/plain": [
       "0.00      0.0\n",
       "0.25     26.0\n",
       "0.50     46.0\n",
       "0.75     84.0\n",
       "1.00    565.0\n",
       "Name: WageInThousands, dtype: float64"
      ]
     },
     "execution_count": 675,
     "metadata": {},
     "output_type": "execute_result"
    }
   ],
   "source": [
    "df['WageInThousands'].quantile([0,.25,.5,.75,1])"
   ]
  },
  {
   "cell_type": "code",
   "execution_count": null,
   "id": "67f2c0b7",
   "metadata": {},
   "outputs": [
    {
     "data": {
      "text/plain": [
       "3992.0118861138862"
      ]
     },
     "execution_count": 676,
     "metadata": {},
     "output_type": "execute_result"
    }
   ],
   "source": [
    "df['WageInThousands'].var()"
   ]
  },
  {
   "cell_type": "code",
   "execution_count": null,
   "id": "518aada7",
   "metadata": {},
   "outputs": [
    {
     "data": {
      "text/plain": [
       "63.18237005774543"
      ]
     },
     "execution_count": 677,
     "metadata": {},
     "output_type": "execute_result"
    }
   ],
   "source": [
    "df['WageInThousands'].std()"
   ]
  },
  {
   "cell_type": "code",
   "execution_count": null,
   "id": "e0b776cd",
   "metadata": {},
   "outputs": [
    {
     "data": {
      "text/plain": [
       "19.35764235764236"
      ]
     },
     "execution_count": 678,
     "metadata": {},
     "output_type": "execute_result"
    }
   ],
   "source": [
    "df['ValueInMillions'].mean()"
   ]
  },
  {
   "cell_type": "code",
   "execution_count": null,
   "id": "11cfaeb2",
   "metadata": {},
   "outputs": [
    {
     "data": {
      "text/plain": [
       "14.5"
      ]
     },
     "execution_count": 679,
     "metadata": {},
     "output_type": "execute_result"
    }
   ],
   "source": [
    "df['ValueInMillions'].median()"
   ]
  },
  {
   "cell_type": "code",
   "execution_count": null,
   "id": "5fd4f20c",
   "metadata": {},
   "outputs": [
    {
     "data": {
      "text/plain": [
       "548.2524840359641"
      ]
     },
     "execution_count": 680,
     "metadata": {},
     "output_type": "execute_result"
    }
   ],
   "source": [
    "df['ValueInMillions'].var()"
   ]
  },
  {
   "cell_type": "code",
   "execution_count": null,
   "id": "9fd6e99e",
   "metadata": {},
   "outputs": [
    {
     "data": {
      "text/plain": [
       "23.41479199215667"
      ]
     },
     "execution_count": 681,
     "metadata": {},
     "output_type": "execute_result"
    }
   ],
   "source": [
    "df['ValueInMillions'].std()"
   ]
  },
  {
   "cell_type": "code",
   "execution_count": null,
   "id": "a8717e7e",
   "metadata": {},
   "outputs": [
    {
     "data": {
      "text/plain": [
       "0.00      0.0\n",
       "0.25     10.0\n",
       "0.50     14.5\n",
       "0.75     22.0\n",
       "1.00    600.0\n",
       "Name: ValueInMillions, dtype: float64"
      ]
     },
     "execution_count": 682,
     "metadata": {},
     "output_type": "execute_result"
    }
   ],
   "source": [
    "df['ValueInMillions'].quantile([0,.25,.5,.75,1])"
   ]
  },
  {
   "cell_type": "code",
   "execution_count": null,
   "id": "afc9b94c",
   "metadata": {},
   "outputs": [
    {
     "data": {
      "text/plain": [
       "-0.0880316465244258"
      ]
     },
     "execution_count": 683,
     "metadata": {},
     "output_type": "execute_result"
    }
   ],
   "source": [
    "df['Age'].corr(df['ValueInMillions'])"
   ]
  },
  {
   "cell_type": "code",
   "execution_count": null,
   "id": "471810fb",
   "metadata": {},
   "outputs": [
    {
     "data": {
      "image/png": "[encoded data removed]",
      "text/plain": [
       "<Figure size 432x288 with 1 Axes>"
      ]
     },
     "metadata": {
      "needs_background": "light"
     },
     "output_type": "display_data"
    }
   ],
   "source": [
    "x = df['ValueInMillions']\n",
    "y = df['Age']\n",
    "m, b = np.polyfit(x, y, 1)\n",
    "plt.plot(x, m*x + b,'r+')\n",
    "plt.scatter(df['Age'],df['ValueInMillions'])\n",
    "plt.ylabel(\"Age\")\n",
    "plt.xlabel(\"Value in Millions €\")\n",
    "plt.show()"
   ]
  },
  {
   "cell_type": "code",
   "execution_count": 13,
   "id": "324fe41d",
   "metadata": {},
   "outputs": [
    {
     "data": {
      "text/plain": [
       "78    5.794206\n",
       "80    5.094905\n",
       "76    4.795205\n",
       "84    4.395604\n",
       "82    4.395604\n",
       "        ...   \n",
       "94    0.099900\n",
       "30    0.099900\n",
       "95    0.099900\n",
       "96    0.099900\n",
       "34    0.099900\n",
       "Name: Dribbling, Length: 80, dtype: float64"
      ]
     },
     "execution_count": 13,
     "metadata": {},
     "output_type": "execute_result"
    }
   ],
   "source": [
    "100*df['Dribbling'].value_counts(normalize=True)"
   ]
  },
  {
   "cell_type": "code",
   "execution_count": 14,
   "id": "715100f9",
   "metadata": {},
   "outputs": [
    {
     "data": {
      "text/plain": [
       "73    4.795205\n",
       "76    4.695305\n",
       "74    4.495504\n",
       "75    3.896104\n",
       "69    3.696304\n",
       "        ...   \n",
       "40    0.099900\n",
       "43    0.099900\n",
       "95    0.099900\n",
       "31    0.099900\n",
       "42    0.099900\n",
       "Name: Jumping, Length: 66, dtype: float64"
      ]
     },
     "execution_count": 14,
     "metadata": {},
     "output_type": "execute_result"
    }
   ],
   "source": [
    "100*df['Jumping'].value_counts(normalize=True)"
   ]
  },
  {
   "cell_type": "code",
   "execution_count": 15,
   "id": "62f07045",
   "metadata": {},
   "outputs": [
    {
     "data": {
      "text/plain": [
       "78    4.695305\n",
       "68    4.595405\n",
       "72    4.195804\n",
       "79    4.195804\n",
       "76    4.095904\n",
       "        ...   \n",
       "41    0.099900\n",
       "35    0.099900\n",
       "32    0.099900\n",
       "44    0.099900\n",
       "30    0.099900\n",
       "Name: Strength, Length: 63, dtype: float64"
      ]
     },
     "execution_count": 15,
     "metadata": {},
     "output_type": "execute_result"
    }
   ],
   "source": [
    "100*df['Strength'].value_counts(normalize=True)"
   ]
  },
  {
   "cell_type": "code",
   "execution_count": 16,
   "id": "1b35d213",
   "metadata": {},
   "outputs": [
    {
     "data": {
      "text/plain": [
       "76    4.895105\n",
       "69    4.695305\n",
       "77    4.295704\n",
       "79    4.295704\n",
       "75    3.696304\n",
       "        ...   \n",
       "95    0.199800\n",
       "33    0.199800\n",
       "39    0.199800\n",
       "36    0.099900\n",
       "31    0.099900\n",
       "Name: SprintSpeed, Length: 66, dtype: float64"
      ]
     },
     "execution_count": 16,
     "metadata": {},
     "output_type": "execute_result"
    }
   ],
   "source": [
    "100*df['SprintSpeed'].value_counts(normalize=True)"
   ]
  },
  {
   "cell_type": "code",
   "execution_count": 17,
   "id": "4a99ec04",
   "metadata": {},
   "outputs": [
    {
     "data": {
      "text/plain": [
       "80    7.592408\n",
       "79    6.693307\n",
       "83    6.493506\n",
       "78    6.493506\n",
       "81    6.293706\n",
       "        ...   \n",
       "36    0.099900\n",
       "38    0.099900\n",
       "37    0.099900\n",
       "42    0.099900\n",
       "55    0.099900\n",
       "Name: BallControl, Length: 75, dtype: float64"
      ]
     },
     "execution_count": 17,
     "metadata": {},
     "output_type": "execute_result"
    }
   ],
   "source": [
    "100*df['BallControl'].value_counts(normalize=True)"
   ]
  },
  {
   "cell_type": "markdown",
   "id": "5f78470a",
   "metadata": {},
   "source": [
    "Notice that the athlete has a higher probability of possessing a higher value if he is under the age of 30."
   ]
  },
  {
   "cell_type": "code",
   "execution_count": null,
   "id": "a15e4239",
   "metadata": {},
   "outputs": [
    {
     "data": {
      "text/plain": [
       "0.3361784412480953"
      ]
     },
     "execution_count": 684,
     "metadata": {},
     "output_type": "execute_result"
    }
   ],
   "source": [
    "df['Jumping'].corr(df['Strength'])"
   ]
  },
  {
   "cell_type": "markdown",
   "id": "fae83c26",
   "metadata": {},
   "source": [
    "There is a direct association between the players' strength and their jumping abilities,\n",
    "as can be seen in this graph. The graph implies that a player's strength correlates\n",
    "with their ability to jump higher, which is logical."
   ]
  },
  {
   "cell_type": "code",
   "execution_count": null,
   "id": "6ca4d39d",
   "metadata": {},
   "outputs": [
    {
     "data": {
      "text/plain": [
       "0.705399575116226"
      ]
     },
     "execution_count": 685,
     "metadata": {},
     "output_type": "execute_result"
    }
   ],
   "source": [
    "df['SprintSpeed'].corr(df['Agility'])"
   ]
  },
  {
   "cell_type": "code",
   "execution_count": null,
   "id": "c9dc1bb3",
   "metadata": {},
   "outputs": [
    {
     "data": {
      "text/plain": [
       "Text(0, 0.5, 'Agility')"
      ]
     },
     "execution_count": 724,
     "metadata": {},
     "output_type": "execute_result"
    },
    {
     "data": {
      "image/png": "[encoded data removed]",
      "text/plain": [
       "<Figure size 432x288 with 1 Axes>"
      ]
     },
     "metadata": {
      "needs_background": "light"
     },
     "output_type": "display_data"
    }
   ],
   "source": [
    "x = df['SprintSpeed']\n",
    "y = df['Agility']\n",
    "m, b = np.polyfit(x, y, 1)\n",
    "plt.plot(x, m*x + b,'r+')\n",
    "plt.scatter(df['SprintSpeed'],df['Agility'])\n",
    "plt.xlabel(\"Sprint Speed\")\n",
    "plt.ylabel(\"Agility\")"
   ]
  },
  {
   "cell_type": "markdown",
   "id": "8ea5abc5",
   "metadata": {},
   "source": [
    "Agility enhances a player's sprint speed by helping the body maintain good\n",
    "alignment and posture throughout movement, which explains the positive correlation\n",
    "between these two variables."
   ]
  },
  {
   "cell_type": "code",
   "execution_count": null,
   "id": "dd15572a",
   "metadata": {},
   "outputs": [
    {
     "data": {
      "text/plain": [
       "0.8588518827099209"
      ]
     },
     "execution_count": 686,
     "metadata": {},
     "output_type": "execute_result"
    }
   ],
   "source": [
    "df['Agility'].corr(df['Balance'])"
   ]
  },
  {
   "cell_type": "code",
   "execution_count": null,
   "id": "5656e052",
   "metadata": {},
   "outputs": [
    {
     "data": {
      "text/plain": [
       "Text(0, 0.5, 'Balance')"
      ]
     },
     "execution_count": 723,
     "metadata": {},
     "output_type": "execute_result"
    },
    {
     "data": {
      "image/png": "[encoded data removed]",
      "text/plain": [
       "<Figure size 432x288 with 1 Axes>"
      ]
     },
     "metadata": {
      "needs_background": "light"
     },
     "output_type": "display_data"
    }
   ],
   "source": [
    "x = df['Agility']\n",
    "y = df['Balance']\n",
    "m, b = np.polyfit(x, y, 1)\n",
    "plt.plot(x, m*x + b, 'r+')\n",
    "plt.scatter(df['Agility'],df['Balance'])\n",
    "plt.xlabel(\"Agility\")\n",
    "plt.ylabel(\"Balance\")"
   ]
  },
  {
   "cell_type": "markdown",
   "id": "1eafa9a7",
   "metadata": {},
   "source": [
    "There is a clear link between agility and balance, demonstrating their\n",
    "interdependence. Balance programmes for soccer players may be an effective way to\n",
    "improve agility, which in turn may help prevent injuries."
   ]
  },
  {
   "cell_type": "code",
   "execution_count": null,
   "id": "bf793373",
   "metadata": {},
   "outputs": [
    {
     "data": {
      "text/plain": [
       "-0.40968454146379213"
      ]
     },
     "execution_count": 687,
     "metadata": {},
     "output_type": "execute_result"
    }
   ],
   "source": [
    "df['HeightInInches'].corr(df['Vision'])"
   ]
  },
  {
   "cell_type": "code",
   "execution_count": null,
   "id": "e4cc9b20",
   "metadata": {},
   "outputs": [
    {
     "data": {
      "text/plain": [
       "Text(0, 0.5, 'Vision')"
      ]
     },
     "execution_count": 726,
     "metadata": {},
     "output_type": "execute_result"
    },
    {
     "data": {
      "image/png": "[encoded data removed]",
      "text/plain": [
       "<Figure size 432x288 with 1 Axes>"
      ]
     },
     "metadata": {
      "needs_background": "light"
     },
     "output_type": "display_data"
    }
   ],
   "source": [
    "x = df['HeightInInches']\n",
    "y = df['Vision']\n",
    "m, b = np.polyfit(x, y, 1)\n",
    "plt.plot(x, m*x + b, 'r+')\n",
    "plt.scatter(df['HeightInInches'],df['Vision'])\n",
    "plt.xlabel(\"Height In Inches\")\n",
    "plt.ylabel(\"Vision\")"
   ]
  },
  {
   "cell_type": "markdown",
   "id": "d8e268af",
   "metadata": {},
   "source": [
    "There is a strong correlation between height and vision in this graph. This could\n",
    "be explained with the fact that taller people tend to have better eyesight."
   ]
  },
  {
   "cell_type": "code",
   "execution_count": null,
   "id": "4dbca4a9",
   "metadata": {},
   "outputs": [
    {
     "data": {
      "text/plain": [
       "0.7349019081632446"
      ]
     },
     "execution_count": 688,
     "metadata": {},
     "output_type": "execute_result"
    }
   ],
   "source": [
    "df['Dribbling'].corr(df['Vision'])"
   ]
  },
  {
   "cell_type": "code",
   "execution_count": null,
   "id": "18dd9948",
   "metadata": {},
   "outputs": [
    {
     "data": {
      "text/plain": [
       "Text(0, 0.5, 'Vision')"
      ]
     },
     "execution_count": 727,
     "metadata": {},
     "output_type": "execute_result"
    },
    {
     "data": {
      "image/png": "[encoded data removed]",
      "text/plain": [
       "<Figure size 432x288 with 1 Axes>"
      ]
     },
     "metadata": {
      "needs_background": "light"
     },
     "output_type": "display_data"
    }
   ],
   "source": [
    "x = df['Dribbling']\n",
    "y = df['Vision']\n",
    "m, b = np.polyfit(x, y, 1)\n",
    "plt.plot(x, m*x + b, 'r+')\n",
    "plt.scatter(df['Dribbling'],df['Vision'])\n",
    "plt.xlabel(\"Dribbling\")\n",
    "plt.ylabel(\"Vision\")"
   ]
  },
  {
   "cell_type": "markdown",
   "id": "5f439047",
   "metadata": {},
   "source": [
    "There is a significant positive correlation here. The fact that higher dribbling skills\n",
    "necessitate high levels of vision could explain this association. It is possible to deduce\n",
    "that athletes who excel at dribbling have great eyesight. The stronger a player's eyesight,\n",
    "the better his dribbling skills are likely to be."
   ]
  },
  {
   "cell_type": "code",
   "execution_count": null,
   "id": "1befaa70",
   "metadata": {},
   "outputs": [
    {
     "data": {
      "text/plain": [
       "0.6540476289586655"
      ]
     },
     "execution_count": 689,
     "metadata": {},
     "output_type": "execute_result"
    }
   ],
   "source": [
    "df['WeightInPounds'].corr(df['Strength'])"
   ]
  },
  {
   "cell_type": "code",
   "execution_count": null,
   "id": "43c295e4",
   "metadata": {},
   "outputs": [
    {
     "data": {
      "text/plain": [
       "Text(0, 0.5, 'Strength')"
      ]
     },
     "execution_count": 728,
     "metadata": {},
     "output_type": "execute_result"
    },
    {
     "data": {
      "image/png": "[encoded data removed]",
      "text/plain": [
       "<Figure size 432x288 with 1 Axes>"
      ]
     },
     "metadata": {
      "needs_background": "light"
     },
     "output_type": "display_data"
    }
   ],
   "source": [
    "x = df['WeightInPounds']\n",
    "y = df['Strength']\n",
    "m, b = np.polyfit(x, y, 1)\n",
    "plt.plot(x, m*x + b, 'r+')\n",
    "plt.scatter(df['WeightInPounds'],df['Strength'])\n",
    "plt.xlabel(\"Weight in Pounds\")\n",
    "plt.ylabel(\"Strength\")"
   ]
  },
  {
   "cell_type": "markdown",
   "id": "8ad48ab0",
   "metadata": {},
   "source": [
    "Here, there is a substantial positive link between weight and strength. This could be\n",
    "explained by the fact that these players all have fit bodies, implying that weight here\n",
    "means muscle mass and a larger physique. Greater muscular mass equates to greater\n",
    "strength."
   ]
  },
  {
   "cell_type": "code",
   "execution_count": null,
   "id": "6dfeb29e",
   "metadata": {},
   "outputs": [
    {
     "data": {
      "text/plain": [
       "0.7041649248407201"
      ]
     },
     "execution_count": 690,
     "metadata": {},
     "output_type": "execute_result"
    }
   ],
   "source": [
    "df['Dribbling'].corr(df['Balance'])"
   ]
  },
  {
   "cell_type": "code",
   "execution_count": null,
   "id": "636db633",
   "metadata": {},
   "outputs": [
    {
     "data": {
      "text/plain": [
       "Text(0, 0.5, 'Balance')"
      ]
     },
     "execution_count": 729,
     "metadata": {},
     "output_type": "execute_result"
    },
    {
     "data": {
      "image/png": "[encoded data removed]",
      "text/plain": [
       "<Figure size 432x288 with 1 Axes>"
      ]
     },
     "metadata": {
      "needs_background": "light"
     },
     "output_type": "display_data"
    }
   ],
   "source": [
    "x = df['Dribbling']\n",
    "y = df['Balance']\n",
    "m, b = np.polyfit(x, y, 1)\n",
    "plt.plot(x, m*x + b, 'r+')\n",
    "plt.scatter(df['Dribbling'],df['Balance'])\n",
    "plt.xlabel(\"Dribbling\")\n",
    "plt.ylabel(\"Balance\")"
   ]
  },
  {
   "cell_type": "markdown",
   "id": "d0482df4",
   "metadata": {},
   "source": [
    "There is a strong link between dribbling and balance in this situation.\n",
    "Dribbling necessitates a high level of stability and balance, which explains the\n",
    "connection."
   ]
  },
  {
   "cell_type": "code",
   "execution_count": null,
   "id": "3bdf40b7",
   "metadata": {},
   "outputs": [
    {
     "data": {
      "text/plain": [
       "0.9647121301117824"
      ]
     },
     "execution_count": 691,
     "metadata": {},
     "output_type": "execute_result"
    }
   ],
   "source": [
    "df['BallControl'].corr(df['Dribbling'])"
   ]
  },
  {
   "cell_type": "code",
   "execution_count": null,
   "id": "33f51ebf",
   "metadata": {},
   "outputs": [
    {
     "data": {
      "text/plain": [
       "Text(0, 0.5, 'Dribbling')"
      ]
     },
     "execution_count": 732,
     "metadata": {},
     "output_type": "execute_result"
    },
    {
     "data": {
      "image/png": "[encoded data removed]",
      "text/plain": [
       "<Figure size 432x288 with 1 Axes>"
      ]
     },
     "metadata": {
      "needs_background": "light"
     },
     "output_type": "display_data"
    }
   ],
   "source": [
    "x = df['BallControl']\n",
    "y = df['Dribbling']\n",
    "m, b = np.polyfit(x, y, 1)\n",
    "plt.plot(x, m*x + b, 'r+')\n",
    "plt.scatter(df['BallControl'],df['Dribbling'],)\n",
    "plt.xlabel(\"Ball Control\")\n",
    "plt.ylabel(\"Dribbling\")"
   ]
  },
  {
   "cell_type": "markdown",
   "id": "b53a8050",
   "metadata": {},
   "source": [
    "Ball control and dribbling have a high positive association. Because\n",
    "dribbling necessitates complete control of the ball, this relationship makes\n",
    "sense because they are mutually reliant."
   ]
  },
  {
   "cell_type": "code",
   "execution_count": null,
   "id": "022f14ab",
   "metadata": {},
   "outputs": [],
   "source": [
    "a=df['Age']"
   ]
  },
  {
   "cell_type": "code",
   "execution_count": null,
   "id": "23b4f4c6",
   "metadata": {},
   "outputs": [
    {
     "data": {
      "image/png": "[encoded data removed]",
      "text/plain": [
       "<Figure size 432x288 with 1 Axes>"
      ]
     },
     "metadata": {
      "needs_background": "light"
     },
     "output_type": "display_data"
    }
   ],
   "source": [
    "plt.hist(a, bins = 8)\n",
    "plt.show()"
   ]
  },
  {
   "cell_type": "markdown",
   "id": "089bc3b8",
   "metadata": {},
   "source": [
    "Notice that the top 1000 players aren't bound by age, meaning there's a broad range of\n",
    "players from 19 years old (K. Mbapp ) to 40 years old (G. Buffon). Also, either by\n",
    "examining the graph or by constructing a frequency table, we can see that most players\n",
    "lie within the interval of age 24 to age 32."
   ]
  },
  {
   "cell_type": "code",
   "execution_count": null,
   "id": "7211f7c1",
   "metadata": {},
   "outputs": [
    {
     "data": {
      "text/plain": [
       "<AxesSubplot:xlabel='Age', ylabel='Density'>"
      ]
     },
     "execution_count": 694,
     "metadata": {},
     "output_type": "execute_result"
    },
    {
     "data": {
      "image/png": "[encoded data removed]",
      "text/plain": [
       "<Figure size 432x288 with 1 Axes>"
      ]
     },
     "metadata": {
      "needs_background": "light"
     },
     "output_type": "display_data"
    }
   ],
   "source": [
    "sns.kdeplot(df['Age'])"
   ]
  },
  {
   "cell_type": "markdown",
   "id": "cd86849d",
   "metadata": {},
   "source": [
    "The density plot above displays the age of the players recorded in this data set. It is clear that most players are aged between 20 and 35, and only a minimal number of players are aged 15 or 40. "
   ]
  },
  {
   "cell_type": "code",
   "execution_count": null,
   "id": "a6d20abc",
   "metadata": {},
   "outputs": [
    {
     "data": {
      "image/png": "[encoded data removed]",
      "text/plain": [
       "<Figure size 432x288 with 1 Axes>"
      ]
     },
     "metadata": {
      "needs_background": "light"
     },
     "output_type": "display_data"
    }
   ],
   "source": [
    "o=df['Overall']\n",
    "plt.hist(o, bins = 8)\n",
    "plt.show()"
   ]
  },
  {
   "cell_type": "code",
   "execution_count": null,
   "id": "ace14527",
   "metadata": {},
   "outputs": [
    {
     "data": {
      "image/png": "[encoded data removed]",
      "text/plain": [
       "<Figure size 432x288 with 1 Axes>"
      ]
     },
     "metadata": {
      "needs_background": "light"
     },
     "output_type": "display_data"
    }
   ],
   "source": [
    "p=df['Potential']\n",
    "plt.hist(p, bins = 8)\n",
    "plt.show()"
   ]
  },
  {
   "cell_type": "code",
   "execution_count": null,
   "id": "7fabd85a",
   "metadata": {},
   "outputs": [
    {
     "data": {
      "text/plain": [
       "0.7489315036169497"
      ]
     },
     "execution_count": 697,
     "metadata": {},
     "output_type": "execute_result"
    }
   ],
   "source": [
    "df['Overall'].corr(df['Potential'])"
   ]
  },
  {
   "cell_type": "markdown",
   "id": "013dd082",
   "metadata": {},
   "source": [
    "As shown in the graphs and by the correlation, an increase in the players’ overall abilities is evident, meaning that they are assigned higher potential abilities and are expected to show improvements throughout the season."
   ]
  },
  {
   "cell_type": "code",
   "execution_count": null,
   "id": "61db5fbb",
   "metadata": {},
   "outputs": [
    {
     "data": {
      "image/png": "[encoded data removed]",
      "text/plain": [
       "<Figure size 432x288 with 1 Axes>"
      ]
     },
     "metadata": {
      "needs_background": "light"
     },
     "output_type": "display_data"
    }
   ],
   "source": [
    "j=df['JerseyNumber']\n",
    "plt.hist(j, bins = 30)\n",
    "plt.show()"
   ]
  },
  {
   "cell_type": "markdown",
   "id": "b6457897",
   "metadata": {},
   "source": [
    "The graph shows that the number 10 has the highest count, indicating that it is the most worn\n",
    "number. Most of the best players to ever play the game wore this number, primarily for historical\n",
    "reasons. Pele and Maradona, two of the greatest players of all time, both utilized it, which is why\n",
    "the number 10 is associated with brilliance, therefore making it every player’s desire. It is\n",
    "sometimes granted to players based on their position rather than their abilities."
   ]
  },
  {
   "cell_type": "code",
   "execution_count": 18,
   "id": "e9985b97",
   "metadata": {},
   "outputs": [
    {
     "data": {
      "image/png": "[encoded data removed]",
      "text/plain": [
       "<Figure size 432x288 with 3 Axes>"
      ]
     },
     "metadata": {
      "needs_background": "light"
     },
     "output_type": "display_data"
    }
   ],
   "source": [
    "from statsmodels.graphics.mosaicplot import mosaic\n",
    "mosaic(data=df, index=['PreferredFoot', 'WeakFoot'])\n",
    "plt.show()"
   ]
  },
  {
   "cell_type": "markdown",
   "id": "50f5e59e",
   "metadata": {},
   "source": [
    "The mosaic plot displays the relationship between the Preferred Foot and Weak Foot variables. Each block displays the number of players that use either their right or left foot."
   ]
  },
  {
   "cell_type": "code",
   "execution_count": 19,
   "id": "7fd0daf0",
   "metadata": {},
   "outputs": [
    {
     "data": {
      "text/plain": [
       "<AxesSubplot:>"
      ]
     },
     "execution_count": 19,
     "metadata": {},
     "output_type": "execute_result"
    },
    {
     "data": {
      "image/png": "[encoded data removed]",
      "text/plain": [
       "<Figure size 432x288 with 2 Axes>"
      ]
     },
     "metadata": {
      "needs_background": "light"
     },
     "output_type": "display_data"
    }
   ],
   "source": [
    "cormat=df[['Jumping','Strength','SprintSpeed','Agility','Balance','HeightInInches','Vision','Dribbling','WeightInPounds','BallControl']].corr().round(2)\n",
    "cormat\n",
    "\n",
    "sns.heatmap(cormat, annot=True)"
   ]
  },
  {
   "cell_type": "markdown",
   "id": "c8d34a8c",
   "metadata": {},
   "source": [
    "The heat map displays the correlation between all variables"
   ]
  },
  {
   "cell_type": "code",
   "execution_count": null,
   "id": "98da17c6",
   "metadata": {},
   "outputs": [
    {
     "data": {
      "text/plain": [
       "<seaborn.axisgrid.FacetGrid at 0x7ff5822416d0>"
      ]
     },
     "execution_count": 735,
     "metadata": {},
     "output_type": "execute_result"
    },
    {
     "data": {
      "image/png": "[encoded data removed]",
      "text/plain": [
       "<Figure size 360x360 with 1 Axes>"
      ]
     },
     "metadata": {
      "needs_background": "light"
     },
     "output_type": "display_data"
    }
   ],
   "source": [
    "sns.catplot(x=\"PreferredFoot\", kind=\"count\", palette=\"ch:.25\", data=df)"
   ]
  },
  {
   "cell_type": "code",
   "execution_count": null,
   "id": "5099f3b9",
   "metadata": {},
   "outputs": [
    {
     "data": {
      "text/plain": [
       "Right    768\n",
       "Left     233\n",
       "Name: PreferredFoot, dtype: int64"
      ]
     },
     "execution_count": 617,
     "metadata": {},
     "output_type": "execute_result"
    }
   ],
   "source": [
    "df['PreferredFoot'].value_counts()"
   ]
  },
  {
   "cell_type": "code",
   "execution_count": null,
   "id": "540c7a4d",
   "metadata": {},
   "outputs": [
    {
     "data": {
      "text/html": [
       "<div>\n",
       "<style scoped>\n",
       "    .dataframe tbody tr th:only-of-type {\n",
       "        vertical-align: middle;\n",
       "    }\n",
       "\n",
       "    .dataframe tbody tr th {\n",
       "        vertical-align: top;\n",
       "    }\n",
       "\n",
       "    .dataframe thead th {\n",
       "        text-align: right;\n",
       "    }\n",
       "</style>\n",
       "<table border=\"1\" class=\"dataframe\">\n",
       "  <thead>\n",
       "    <tr style=\"text-align: right;\">\n",
       "      <th>col_0</th>\n",
       "      <th>count</th>\n",
       "    </tr>\n",
       "    <tr>\n",
       "      <th>PreferredFoot</th>\n",
       "      <th></th>\n",
       "    </tr>\n",
       "  </thead>\n",
       "  <tbody>\n",
       "    <tr>\n",
       "      <th>Left</th>\n",
       "      <td>233</td>\n",
       "    </tr>\n",
       "    <tr>\n",
       "      <th>Right</th>\n",
       "      <td>768</td>\n",
       "    </tr>\n",
       "  </tbody>\n",
       "</table>\n",
       "</div>"
      ],
      "text/plain": [
       "col_0          count\n",
       "PreferredFoot       \n",
       "Left             233\n",
       "Right            768"
      ]
     },
     "execution_count": 620,
     "metadata": {},
     "output_type": "execute_result"
    }
   ],
   "source": [
    "tb=pd.crosstab(index=df['PreferredFoot'], columns='count')\n",
    "tb"
   ]
  },
  {
   "cell_type": "code",
   "execution_count": null,
   "id": "e935fbde",
   "metadata": {},
   "outputs": [
    {
     "data": {
      "text/html": [
       "<div>\n",
       "<style scoped>\n",
       "    .dataframe tbody tr th:only-of-type {\n",
       "        vertical-align: middle;\n",
       "    }\n",
       "\n",
       "    .dataframe tbody tr th {\n",
       "        vertical-align: top;\n",
       "    }\n",
       "\n",
       "    .dataframe thead th {\n",
       "        text-align: right;\n",
       "    }\n",
       "</style>\n",
       "<table border=\"1\" class=\"dataframe\">\n",
       "  <thead>\n",
       "    <tr style=\"text-align: right;\">\n",
       "      <th>col_0</th>\n",
       "      <th>count</th>\n",
       "    </tr>\n",
       "    <tr>\n",
       "      <th>WeakFoot</th>\n",
       "      <th></th>\n",
       "    </tr>\n",
       "  </thead>\n",
       "  <tbody>\n",
       "    <tr>\n",
       "      <th>1</th>\n",
       "      <td>4</td>\n",
       "    </tr>\n",
       "    <tr>\n",
       "      <th>2</th>\n",
       "      <td>125</td>\n",
       "    </tr>\n",
       "    <tr>\n",
       "      <th>3</th>\n",
       "      <td>511</td>\n",
       "    </tr>\n",
       "    <tr>\n",
       "      <th>4</th>\n",
       "      <td>317</td>\n",
       "    </tr>\n",
       "    <tr>\n",
       "      <th>5</th>\n",
       "      <td>44</td>\n",
       "    </tr>\n",
       "  </tbody>\n",
       "</table>\n",
       "</div>"
      ],
      "text/plain": [
       "col_0     count\n",
       "WeakFoot       \n",
       "1             4\n",
       "2           125\n",
       "3           511\n",
       "4           317\n",
       "5            44"
      ]
     },
     "execution_count": 745,
     "metadata": {},
     "output_type": "execute_result"
    }
   ],
   "source": [
    "pd.crosstab(index=df['WeakFoot'], columns='count')"
   ]
  },
  {
   "cell_type": "code",
   "execution_count": null,
   "id": "5a708139",
   "metadata": {},
   "outputs": [
    {
     "data": {
      "text/html": [
       "<div>\n",
       "<style scoped>\n",
       "    .dataframe tbody tr th:only-of-type {\n",
       "        vertical-align: middle;\n",
       "    }\n",
       "\n",
       "    .dataframe tbody tr th {\n",
       "        vertical-align: top;\n",
       "    }\n",
       "\n",
       "    .dataframe thead th {\n",
       "        text-align: right;\n",
       "    }\n",
       "</style>\n",
       "<table border=\"1\" class=\"dataframe\">\n",
       "  <thead>\n",
       "    <tr style=\"text-align: right;\">\n",
       "      <th>col_0</th>\n",
       "      <th>count</th>\n",
       "    </tr>\n",
       "    <tr>\n",
       "      <th>InternationalReputation</th>\n",
       "      <th></th>\n",
       "    </tr>\n",
       "  </thead>\n",
       "  <tbody>\n",
       "    <tr>\n",
       "      <th>1</th>\n",
       "      <td>245</td>\n",
       "    </tr>\n",
       "    <tr>\n",
       "      <th>2</th>\n",
       "      <td>431</td>\n",
       "    </tr>\n",
       "    <tr>\n",
       "      <th>3</th>\n",
       "      <td>268</td>\n",
       "    </tr>\n",
       "    <tr>\n",
       "      <th>4</th>\n",
       "      <td>51</td>\n",
       "    </tr>\n",
       "    <tr>\n",
       "      <th>5</th>\n",
       "      <td>6</td>\n",
       "    </tr>\n",
       "  </tbody>\n",
       "</table>\n",
       "</div>"
      ],
      "text/plain": [
       "col_0                    count\n",
       "InternationalReputation       \n",
       "1                          245\n",
       "2                          431\n",
       "3                          268\n",
       "4                           51\n",
       "5                            6"
      ]
     },
     "execution_count": 746,
     "metadata": {},
     "output_type": "execute_result"
    }
   ],
   "source": [
    "pd.crosstab(index=df['InternationalReputation'], columns='count')"
   ]
  },
  {
   "cell_type": "code",
   "execution_count": null,
   "id": "e6522d35",
   "metadata": {},
   "outputs": [
    {
     "data": {
      "text/html": [
       "<div>\n",
       "<style scoped>\n",
       "    .dataframe tbody tr th:only-of-type {\n",
       "        vertical-align: middle;\n",
       "    }\n",
       "\n",
       "    .dataframe tbody tr th {\n",
       "        vertical-align: top;\n",
       "    }\n",
       "\n",
       "    .dataframe thead th {\n",
       "        text-align: right;\n",
       "    }\n",
       "</style>\n",
       "<table border=\"1\" class=\"dataframe\">\n",
       "  <thead>\n",
       "    <tr style=\"text-align: right;\">\n",
       "      <th>col_0</th>\n",
       "      <th>count</th>\n",
       "    </tr>\n",
       "    <tr>\n",
       "      <th>SkillMoves</th>\n",
       "      <th></th>\n",
       "    </tr>\n",
       "  </thead>\n",
       "  <tbody>\n",
       "    <tr>\n",
       "      <th>1</th>\n",
       "      <td>109</td>\n",
       "    </tr>\n",
       "    <tr>\n",
       "      <th>2</th>\n",
       "      <td>179</td>\n",
       "    </tr>\n",
       "    <tr>\n",
       "      <th>3</th>\n",
       "      <td>346</td>\n",
       "    </tr>\n",
       "    <tr>\n",
       "      <th>4</th>\n",
       "      <td>335</td>\n",
       "    </tr>\n",
       "    <tr>\n",
       "      <th>5</th>\n",
       "      <td>32</td>\n",
       "    </tr>\n",
       "  </tbody>\n",
       "</table>\n",
       "</div>"
      ],
      "text/plain": [
       "col_0       count\n",
       "SkillMoves       \n",
       "1             109\n",
       "2             179\n",
       "3             346\n",
       "4             335\n",
       "5              32"
      ]
     },
     "execution_count": 747,
     "metadata": {},
     "output_type": "execute_result"
    }
   ],
   "source": [
    "pd.crosstab(index=df['SkillMoves'], columns='count')"
   ]
  },
  {
   "cell_type": "code",
   "execution_count": null,
   "id": "3dfed24a",
   "metadata": {},
   "outputs": [
    {
     "data": {
      "text/html": [
       "<div>\n",
       "<style scoped>\n",
       "    .dataframe tbody tr th:only-of-type {\n",
       "        vertical-align: middle;\n",
       "    }\n",
       "\n",
       "    .dataframe tbody tr th {\n",
       "        vertical-align: top;\n",
       "    }\n",
       "\n",
       "    .dataframe thead th {\n",
       "        text-align: right;\n",
       "    }\n",
       "</style>\n",
       "<table border=\"1\" class=\"dataframe\">\n",
       "  <thead>\n",
       "    <tr style=\"text-align: right;\">\n",
       "      <th>col_0</th>\n",
       "      <th>count</th>\n",
       "    </tr>\n",
       "    <tr>\n",
       "      <th>Overall</th>\n",
       "      <th></th>\n",
       "    </tr>\n",
       "  </thead>\n",
       "  <tbody>\n",
       "    <tr>\n",
       "      <th>77</th>\n",
       "      <td>107</td>\n",
       "    </tr>\n",
       "    <tr>\n",
       "      <th>78</th>\n",
       "      <td>168</td>\n",
       "    </tr>\n",
       "    <tr>\n",
       "      <th>79</th>\n",
       "      <td>171</td>\n",
       "    </tr>\n",
       "    <tr>\n",
       "      <th>80</th>\n",
       "      <td>143</td>\n",
       "    </tr>\n",
       "    <tr>\n",
       "      <th>81</th>\n",
       "      <td>93</td>\n",
       "    </tr>\n",
       "    <tr>\n",
       "      <th>82</th>\n",
       "      <td>94</td>\n",
       "    </tr>\n",
       "    <tr>\n",
       "      <th>83</th>\n",
       "      <td>70</td>\n",
       "    </tr>\n",
       "    <tr>\n",
       "      <th>84</th>\n",
       "      <td>45</td>\n",
       "    </tr>\n",
       "    <tr>\n",
       "      <th>85</th>\n",
       "      <td>33</td>\n",
       "    </tr>\n",
       "    <tr>\n",
       "      <th>86</th>\n",
       "      <td>22</td>\n",
       "    </tr>\n",
       "    <tr>\n",
       "      <th>87</th>\n",
       "      <td>13</td>\n",
       "    </tr>\n",
       "    <tr>\n",
       "      <th>88</th>\n",
       "      <td>17</td>\n",
       "    </tr>\n",
       "    <tr>\n",
       "      <th>89</th>\n",
       "      <td>11</td>\n",
       "    </tr>\n",
       "    <tr>\n",
       "      <th>90</th>\n",
       "      <td>5</td>\n",
       "    </tr>\n",
       "    <tr>\n",
       "      <th>91</th>\n",
       "      <td>6</td>\n",
       "    </tr>\n",
       "    <tr>\n",
       "      <th>92</th>\n",
       "      <td>1</td>\n",
       "    </tr>\n",
       "    <tr>\n",
       "      <th>94</th>\n",
       "      <td>2</td>\n",
       "    </tr>\n",
       "  </tbody>\n",
       "</table>\n",
       "</div>"
      ],
      "text/plain": [
       "col_0    count\n",
       "Overall       \n",
       "77         107\n",
       "78         168\n",
       "79         171\n",
       "80         143\n",
       "81          93\n",
       "82          94\n",
       "83          70\n",
       "84          45\n",
       "85          33\n",
       "86          22\n",
       "87          13\n",
       "88          17\n",
       "89          11\n",
       "90           5\n",
       "91           6\n",
       "92           1\n",
       "94           2"
      ]
     },
     "execution_count": 748,
     "metadata": {},
     "output_type": "execute_result"
    }
   ],
   "source": [
    "pd.crosstab(index=df['Overall'], columns='count')"
   ]
  },
  {
   "cell_type": "code",
   "execution_count": null,
   "id": "582955fe",
   "metadata": {},
   "outputs": [
    {
     "data": {
      "text/html": [
       "<div>\n",
       "<style scoped>\n",
       "    .dataframe tbody tr th:only-of-type {\n",
       "        vertical-align: middle;\n",
       "    }\n",
       "\n",
       "    .dataframe tbody tr th {\n",
       "        vertical-align: top;\n",
       "    }\n",
       "\n",
       "    .dataframe thead th {\n",
       "        text-align: right;\n",
       "    }\n",
       "</style>\n",
       "<table border=\"1\" class=\"dataframe\">\n",
       "  <thead>\n",
       "    <tr style=\"text-align: right;\">\n",
       "      <th>col_0</th>\n",
       "      <th>count</th>\n",
       "    </tr>\n",
       "    <tr>\n",
       "      <th>Potential</th>\n",
       "      <th></th>\n",
       "    </tr>\n",
       "  </thead>\n",
       "  <tbody>\n",
       "    <tr>\n",
       "      <th>77</th>\n",
       "      <td>71</td>\n",
       "    </tr>\n",
       "    <tr>\n",
       "      <th>78</th>\n",
       "      <td>72</td>\n",
       "    </tr>\n",
       "    <tr>\n",
       "      <th>79</th>\n",
       "      <td>97</td>\n",
       "    </tr>\n",
       "    <tr>\n",
       "      <th>80</th>\n",
       "      <td>129</td>\n",
       "    </tr>\n",
       "    <tr>\n",
       "      <th>81</th>\n",
       "      <td>88</td>\n",
       "    </tr>\n",
       "    <tr>\n",
       "      <th>82</th>\n",
       "      <td>84</td>\n",
       "    </tr>\n",
       "    <tr>\n",
       "      <th>83</th>\n",
       "      <td>89</td>\n",
       "    </tr>\n",
       "    <tr>\n",
       "      <th>84</th>\n",
       "      <td>85</td>\n",
       "    </tr>\n",
       "    <tr>\n",
       "      <th>85</th>\n",
       "      <td>72</td>\n",
       "    </tr>\n",
       "    <tr>\n",
       "      <th>86</th>\n",
       "      <td>56</td>\n",
       "    </tr>\n",
       "    <tr>\n",
       "      <th>87</th>\n",
       "      <td>46</td>\n",
       "    </tr>\n",
       "    <tr>\n",
       "      <th>88</th>\n",
       "      <td>37</td>\n",
       "    </tr>\n",
       "    <tr>\n",
       "      <th>89</th>\n",
       "      <td>26</td>\n",
       "    </tr>\n",
       "    <tr>\n",
       "      <th>90</th>\n",
       "      <td>21</td>\n",
       "    </tr>\n",
       "    <tr>\n",
       "      <th>91</th>\n",
       "      <td>12</td>\n",
       "    </tr>\n",
       "    <tr>\n",
       "      <th>92</th>\n",
       "      <td>8</td>\n",
       "    </tr>\n",
       "    <tr>\n",
       "      <th>93</th>\n",
       "      <td>4</td>\n",
       "    </tr>\n",
       "    <tr>\n",
       "      <th>94</th>\n",
       "      <td>3</td>\n",
       "    </tr>\n",
       "    <tr>\n",
       "      <th>95</th>\n",
       "      <td>1</td>\n",
       "    </tr>\n",
       "  </tbody>\n",
       "</table>\n",
       "</div>"
      ],
      "text/plain": [
       "col_0      count\n",
       "Potential       \n",
       "77            71\n",
       "78            72\n",
       "79            97\n",
       "80           129\n",
       "81            88\n",
       "82            84\n",
       "83            89\n",
       "84            85\n",
       "85            72\n",
       "86            56\n",
       "87            46\n",
       "88            37\n",
       "89            26\n",
       "90            21\n",
       "91            12\n",
       "92             8\n",
       "93             4\n",
       "94             3\n",
       "95             1"
      ]
     },
     "execution_count": 749,
     "metadata": {},
     "output_type": "execute_result"
    }
   ],
   "source": [
    "pd.crosstab(index=df['Potential'], columns='count')"
   ]
  },
  {
   "cell_type": "code",
   "execution_count": null,
   "id": "39144f8e",
   "metadata": {},
   "outputs": [
    {
     "data": {
      "text/html": [
       "<div>\n",
       "<style scoped>\n",
       "    .dataframe tbody tr th:only-of-type {\n",
       "        vertical-align: middle;\n",
       "    }\n",
       "\n",
       "    .dataframe tbody tr th {\n",
       "        vertical-align: top;\n",
       "    }\n",
       "\n",
       "    .dataframe thead th {\n",
       "        text-align: right;\n",
       "    }\n",
       "</style>\n",
       "<table border=\"1\" class=\"dataframe\">\n",
       "  <thead>\n",
       "    <tr style=\"text-align: right;\">\n",
       "      <th>col_0</th>\n",
       "      <th>count</th>\n",
       "    </tr>\n",
       "    <tr>\n",
       "      <th>Nationality</th>\n",
       "      <th></th>\n",
       "    </tr>\n",
       "  </thead>\n",
       "  <tbody>\n",
       "    <tr>\n",
       "      <th>Albania</th>\n",
       "      <td>2</td>\n",
       "    </tr>\n",
       "    <tr>\n",
       "      <th>Algeria</th>\n",
       "      <td>7</td>\n",
       "    </tr>\n",
       "    <tr>\n",
       "      <th>Angola</th>\n",
       "      <td>1</td>\n",
       "    </tr>\n",
       "    <tr>\n",
       "      <th>Argentina</th>\n",
       "      <td>72</td>\n",
       "    </tr>\n",
       "    <tr>\n",
       "      <th>Armenia</th>\n",
       "      <td>1</td>\n",
       "    </tr>\n",
       "    <tr>\n",
       "      <th>...</th>\n",
       "      <td>...</td>\n",
       "    </tr>\n",
       "    <tr>\n",
       "      <th>United States</th>\n",
       "      <td>4</td>\n",
       "    </tr>\n",
       "    <tr>\n",
       "      <th>Uruguay</th>\n",
       "      <td>19</td>\n",
       "    </tr>\n",
       "    <tr>\n",
       "      <th>Venezuela</th>\n",
       "      <td>3</td>\n",
       "    </tr>\n",
       "    <tr>\n",
       "      <th>Wales</th>\n",
       "      <td>3</td>\n",
       "    </tr>\n",
       "    <tr>\n",
       "      <th>Zimbabwe</th>\n",
       "      <td>1</td>\n",
       "    </tr>\n",
       "  </tbody>\n",
       "</table>\n",
       "<p>75 rows × 1 columns</p>\n",
       "</div>"
      ],
      "text/plain": [
       "col_0          count\n",
       "Nationality         \n",
       "Albania            2\n",
       "Algeria            7\n",
       "Angola             1\n",
       "Argentina         72\n",
       "Armenia            1\n",
       "...              ...\n",
       "United States      4\n",
       "Uruguay           19\n",
       "Venezuela          3\n",
       "Wales              3\n",
       "Zimbabwe           1\n",
       "\n",
       "[75 rows x 1 columns]"
      ]
     },
     "execution_count": 750,
     "metadata": {},
     "output_type": "execute_result"
    }
   ],
   "source": [
    "pd.crosstab(index=df['Nationality'], columns='count')"
   ]
  },
  {
   "cell_type": "code",
   "execution_count": null,
   "id": "f545602c",
   "metadata": {},
   "outputs": [
    {
     "data": {
      "text/html": [
       "<div>\n",
       "<style scoped>\n",
       "    .dataframe tbody tr th:only-of-type {\n",
       "        vertical-align: middle;\n",
       "    }\n",
       "\n",
       "    .dataframe tbody tr th {\n",
       "        vertical-align: top;\n",
       "    }\n",
       "\n",
       "    .dataframe thead th {\n",
       "        text-align: right;\n",
       "    }\n",
       "</style>\n",
       "<table border=\"1\" class=\"dataframe\">\n",
       "  <thead>\n",
       "    <tr style=\"text-align: right;\">\n",
       "      <th>col_0</th>\n",
       "      <th>count</th>\n",
       "    </tr>\n",
       "    <tr>\n",
       "      <th>WorkRate</th>\n",
       "      <th></th>\n",
       "    </tr>\n",
       "  </thead>\n",
       "  <tbody>\n",
       "    <tr>\n",
       "      <th>High/ High</th>\n",
       "      <td>150</td>\n",
       "    </tr>\n",
       "    <tr>\n",
       "      <th>High/ Low</th>\n",
       "      <td>53</td>\n",
       "    </tr>\n",
       "    <tr>\n",
       "      <th>High/ Medium</th>\n",
       "      <td>252</td>\n",
       "    </tr>\n",
       "    <tr>\n",
       "      <th>Low/ High</th>\n",
       "      <td>16</td>\n",
       "    </tr>\n",
       "    <tr>\n",
       "      <th>Low/ Medium</th>\n",
       "      <td>8</td>\n",
       "    </tr>\n",
       "    <tr>\n",
       "      <th>Medium/ High</th>\n",
       "      <td>143</td>\n",
       "    </tr>\n",
       "    <tr>\n",
       "      <th>Medium/ Low</th>\n",
       "      <td>40</td>\n",
       "    </tr>\n",
       "    <tr>\n",
       "      <th>Medium/ Medium</th>\n",
       "      <td>339</td>\n",
       "    </tr>\n",
       "  </tbody>\n",
       "</table>\n",
       "</div>"
      ],
      "text/plain": [
       "col_0           count\n",
       "WorkRate             \n",
       "High/ High        150\n",
       "High/ Low          53\n",
       "High/ Medium      252\n",
       "Low/ High          16\n",
       "Low/ Medium         8\n",
       "Medium/ High      143\n",
       "Medium/ Low        40\n",
       "Medium/ Medium    339"
      ]
     },
     "execution_count": 751,
     "metadata": {},
     "output_type": "execute_result"
    }
   ],
   "source": [
    "pd.crosstab(index=df['WorkRate'], columns='count')"
   ]
  },
  {
   "cell_type": "code",
   "execution_count": null,
   "id": "f7992496",
   "metadata": {},
   "outputs": [
    {
     "data": {
      "text/plain": [
       "ID                            int64\n",
       "Name                         object\n",
       "Age                           int64\n",
       "Nationality                  object\n",
       "Overall                       int64\n",
       "Potential                     int64\n",
       "Club                         object\n",
       "ValueInMillions             float64\n",
       "WageInThousands               int64\n",
       "Special                       int64\n",
       "PreferredFoot              category\n",
       "InternationalReputation    category\n",
       "WeakFoot                   category\n",
       "SkillMoves                 category\n",
       "WorkRate                     object\n",
       "JerseyNumber                  int64\n",
       "Joined                       object\n",
       "ContractValidUntil           object\n",
       "HeightInInches              float64\n",
       "WeightInPounds                int64\n",
       "ReleaseClause               float64\n",
       "Jumping                       int64\n",
       "Strength                      int64\n",
       "SprintSpeed                   int64\n",
       "Agility                       int64\n",
       "Balance                       int64\n",
       "Vision                        int64\n",
       "Dribbling                     int64\n",
       "BallControl                   int64\n",
       "dtype: object"
      ]
     },
     "execution_count": 702,
     "metadata": {},
     "output_type": "execute_result"
    }
   ],
   "source": [
    "df.dtypes\n"
   ]
  }
 ],
 "metadata": {
  "interpreter": {
   "hash": "aee8b7b246df8f9039afb4144a1f6fd8d2ca17a180786b69acc140d282b71a49"
  },
  "kernelspec": {
   "display_name": "Python 3.9.10 64-bit",
   "language": "python",
   "name": "python3"
  },
  "language_info": {
   "codemirror_mode": {
    "name": "ipython",
    "version": 3
   },
   "file_extension": ".py",
   "mimetype": "text/x-python",
   "name": "python",
   "nbconvert_exporter": "python",
   "pygments_lexer": "ipython3",
   "version": "3.9.10"
  }
 },
 "nbformat": 4,
 "nbformat_minor": 5
}
