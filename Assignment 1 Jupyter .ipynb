{
 "cells": [
  {
   "cell_type": "markdown",
   "id": "fa486ff6",
   "metadata": {},
   "source": [
    "Source of the data:\n",
    "\n",
    "-\tWe obtained this dataset from the website Kaggle. \n",
    "-\thttps://www.kaggle.com/karangadiya/fifa19 \n",
    "\n",
    "Observations: \n",
    "- The observations are people, specifically FiFA 19 soccer players. We minimized the number of observations used to only 100 players, in order to place the focus on the best players. \n",
    "\n",
    "Variables:\n",
    "\n",
    "- We removed some variables and selected those that are relevant to our goal, which is determining the best player card. Before we could acquire our statistical data and plot the graphs, we had to modify the variable categories. We changed the following variables to a factor: nationality, club, preferred foot, body type, real face, position, and contract valid until. We also changed these variables to numeric: age, overall, potential, value in millions, wage in thousands, special, international reputation, weak foot, skill moves, jersey number, height in inches, weight in pounds, crossing, finishing, Heading Accuracy, Short Passing, Volleys, Dribbling, Curve, FK Accuracy, Long Passing, Ball Control, Acceleration, Sprint Speed, Agility, Reactions, Balance, Shot Power, Jumping, Stamina, Strength, Long Shots, Aggression, Interceptions, Positioning, Vision, Penalties, Composure, Marking, Standing Tackle, Sliding Tackle, GK Diving, GK Handling, GK Kicking, GK Positioning, GK Reflexes, and Release Clause In Millions.\n",
    "\n",
    "- We chose this dataset since we are avid esports fans and players. Since day one, we have been FIFA players, so we thought it would be an excellent opportunity to learn more about something we are passionate about. This data piqued our interest because it contains information aimed at professional ultimate team players, which is our area of focus in FIFA. This dataset is ideal for new analysts because it includes practically everything with variables that include everything from a player's performance on the field to their physical appearance and even personal information such as their wages. There are many different types of variables, which allowed us to apply our coding and graphing skills to visualize our data. \n",
    "\n",
    "- As gamers, we are attempting to gather the essential data in order to select the best player card. We are solely dedicated to analyzing the gaming aspect. We aim to examine the players' ratings as well as their technical abilities and try to establish links to figure out who the best player to choose for your ultimate team is. Alongside that, we will study and tackle a few variables, such as jersey number, and determine what psychological significance they occupy. \n"
   ]
  }
 ],
 "metadata": {
  "kernelspec": {
   "display_name": "Python 3 (ipykernel)",
   "language": "python",
   "name": "python3"
  },
  "language_info": {
   "codemirror_mode": {
    "name": "ipython",
    "version": 3
   },
   "file_extension": ".py",
   "mimetype": "text/x-python",
   "name": "python",
   "nbconvert_exporter": "python",
   "pygments_lexer": "ipython3",
   "version": "3.9.10"
  }
 },
 "nbformat": 4,
 "nbformat_minor": 5
}
